{
  "nbformat": 4,
  "nbformat_minor": 0,
  "metadata": {
    "colab": {
      "provenance": [],
      "mount_file_id": "1vR-rH2c5f2omC-niwChROCV-v6MWoy7W",
      "authorship_tag": "ABX9TyMnOBT5L/Kxn/FCULxMsSB3",
      "include_colab_link": true
    },
    "kernelspec": {
      "name": "python3",
      "display_name": "Python 3"
    },
    "language_info": {
      "name": "python"
    }
  },
  "cells": [
    {
      "cell_type": "markdown",
      "metadata": {
        "id": "view-in-github",
        "colab_type": "text"
      },
      "source": [
        "<a href=\"https://colab.research.google.com/github/venkateshblks/Naive-Bayes-and-Text-Mining/blob/main/Naive_Bayes_and_Text_Mining.ipynb\" target=\"_parent\"><img src=\"https://colab.research.google.com/assets/colab-badge.svg\" alt=\"Open In Colab\"/></a>"
      ]
    },
    {
      "cell_type": "code",
      "execution_count": 37,
      "metadata": {
        "id": "7HhE4J6D0aEO"
      },
      "outputs": [],
      "source": [
        "import pandas as pd\n",
        "import numpy as np"
      ]
    },
    {
      "cell_type": "markdown",
      "source": [
        "## Data Exploration and Preprocessing"
      ],
      "metadata": {
        "id": "n0w3_5208Gte"
      }
    },
    {
      "cell_type": "code",
      "source": [
        "import re\n",
        "from sklearn.model_selection import train_test_split\n",
        "from sklearn.feature_extraction.text import TfidfVectorizer\n",
        "from sklearn.naive_bayes import MultinomialNB\n",
        "from sklearn.metrics import accuracy_score, precision_score, recall_score, f1_score,classification_report\n",
        "from nltk.corpus import stopwords\n",
        "from nltk.tokenize import word_tokenize\n",
        "from nltk.stem import WordNetLemmatizer\n",
        "from textblob import TextBlob"
      ],
      "metadata": {
        "id": "BFnd-JpY8GW5"
      },
      "execution_count": 36,
      "outputs": []
    },
    {
      "cell_type": "code",
      "source": [
        "blog=pd.read_csv('/content/drive/MyDrive/blogs_categories.csv')\n",
        "blog"
      ],
      "metadata": {
        "colab": {
          "base_uri": "https://localhost:8080/",
          "height": 423
        },
        "id": "oP_p16viKl_O",
        "outputId": "dff54a19-ce5f-4bc5-ff4a-24392a970bdc"
      },
      "execution_count": 3,
      "outputs": [
        {
          "output_type": "execute_result",
          "data": {
            "text/plain": [
              "       Unnamed: 0                                               Data  \\\n",
              "0               0  Xref: cantaloupe.srv.cs.cmu.edu alt.atheism:49...   \n",
              "1               1  Xref: cantaloupe.srv.cs.cmu.edu alt.atheism:51...   \n",
              "2               2  Newsgroups: alt.atheism\\nPath: cantaloupe.srv....   \n",
              "3               3  Xref: cantaloupe.srv.cs.cmu.edu alt.atheism:51...   \n",
              "4               4  Xref: cantaloupe.srv.cs.cmu.edu alt.atheism:51...   \n",
              "...           ...                                                ...   \n",
              "19992       19992  Xref: cantaloupe.srv.cs.cmu.edu alt.atheism:54...   \n",
              "19993       19993  Xref: cantaloupe.srv.cs.cmu.edu alt.atheism:54...   \n",
              "19994       19994  Xref: cantaloupe.srv.cs.cmu.edu talk.religion....   \n",
              "19995       19995  Xref: cantaloupe.srv.cs.cmu.edu talk.religion....   \n",
              "19996       19996  Xref: cantaloupe.srv.cs.cmu.edu talk.abortion:...   \n",
              "\n",
              "                   Labels  \n",
              "0             alt.atheism  \n",
              "1             alt.atheism  \n",
              "2             alt.atheism  \n",
              "3             alt.atheism  \n",
              "4             alt.atheism  \n",
              "...                   ...  \n",
              "19992  talk.religion.misc  \n",
              "19993  talk.religion.misc  \n",
              "19994  talk.religion.misc  \n",
              "19995  talk.religion.misc  \n",
              "19996  talk.religion.misc  \n",
              "\n",
              "[19997 rows x 3 columns]"
            ],
            "text/html": [
              "\n",
              "  <div id=\"df-fc8cca58-b96b-43d9-8355-ed096c2b39aa\" class=\"colab-df-container\">\n",
              "    <div>\n",
              "<style scoped>\n",
              "    .dataframe tbody tr th:only-of-type {\n",
              "        vertical-align: middle;\n",
              "    }\n",
              "\n",
              "    .dataframe tbody tr th {\n",
              "        vertical-align: top;\n",
              "    }\n",
              "\n",
              "    .dataframe thead th {\n",
              "        text-align: right;\n",
              "    }\n",
              "</style>\n",
              "<table border=\"1\" class=\"dataframe\">\n",
              "  <thead>\n",
              "    <tr style=\"text-align: right;\">\n",
              "      <th></th>\n",
              "      <th>Unnamed: 0</th>\n",
              "      <th>Data</th>\n",
              "      <th>Labels</th>\n",
              "    </tr>\n",
              "  </thead>\n",
              "  <tbody>\n",
              "    <tr>\n",
              "      <th>0</th>\n",
              "      <td>0</td>\n",
              "      <td>Xref: cantaloupe.srv.cs.cmu.edu alt.atheism:49...</td>\n",
              "      <td>alt.atheism</td>\n",
              "    </tr>\n",
              "    <tr>\n",
              "      <th>1</th>\n",
              "      <td>1</td>\n",
              "      <td>Xref: cantaloupe.srv.cs.cmu.edu alt.atheism:51...</td>\n",
              "      <td>alt.atheism</td>\n",
              "    </tr>\n",
              "    <tr>\n",
              "      <th>2</th>\n",
              "      <td>2</td>\n",
              "      <td>Newsgroups: alt.atheism\\nPath: cantaloupe.srv....</td>\n",
              "      <td>alt.atheism</td>\n",
              "    </tr>\n",
              "    <tr>\n",
              "      <th>3</th>\n",
              "      <td>3</td>\n",
              "      <td>Xref: cantaloupe.srv.cs.cmu.edu alt.atheism:51...</td>\n",
              "      <td>alt.atheism</td>\n",
              "    </tr>\n",
              "    <tr>\n",
              "      <th>4</th>\n",
              "      <td>4</td>\n",
              "      <td>Xref: cantaloupe.srv.cs.cmu.edu alt.atheism:51...</td>\n",
              "      <td>alt.atheism</td>\n",
              "    </tr>\n",
              "    <tr>\n",
              "      <th>...</th>\n",
              "      <td>...</td>\n",
              "      <td>...</td>\n",
              "      <td>...</td>\n",
              "    </tr>\n",
              "    <tr>\n",
              "      <th>19992</th>\n",
              "      <td>19992</td>\n",
              "      <td>Xref: cantaloupe.srv.cs.cmu.edu alt.atheism:54...</td>\n",
              "      <td>talk.religion.misc</td>\n",
              "    </tr>\n",
              "    <tr>\n",
              "      <th>19993</th>\n",
              "      <td>19993</td>\n",
              "      <td>Xref: cantaloupe.srv.cs.cmu.edu alt.atheism:54...</td>\n",
              "      <td>talk.religion.misc</td>\n",
              "    </tr>\n",
              "    <tr>\n",
              "      <th>19994</th>\n",
              "      <td>19994</td>\n",
              "      <td>Xref: cantaloupe.srv.cs.cmu.edu talk.religion....</td>\n",
              "      <td>talk.religion.misc</td>\n",
              "    </tr>\n",
              "    <tr>\n",
              "      <th>19995</th>\n",
              "      <td>19995</td>\n",
              "      <td>Xref: cantaloupe.srv.cs.cmu.edu talk.religion....</td>\n",
              "      <td>talk.religion.misc</td>\n",
              "    </tr>\n",
              "    <tr>\n",
              "      <th>19996</th>\n",
              "      <td>19996</td>\n",
              "      <td>Xref: cantaloupe.srv.cs.cmu.edu talk.abortion:...</td>\n",
              "      <td>talk.religion.misc</td>\n",
              "    </tr>\n",
              "  </tbody>\n",
              "</table>\n",
              "<p>19997 rows × 3 columns</p>\n",
              "</div>\n",
              "    <div class=\"colab-df-buttons\">\n",
              "\n",
              "  <div class=\"colab-df-container\">\n",
              "    <button class=\"colab-df-convert\" onclick=\"convertToInteractive('df-fc8cca58-b96b-43d9-8355-ed096c2b39aa')\"\n",
              "            title=\"Convert this dataframe to an interactive table.\"\n",
              "            style=\"display:none;\">\n",
              "\n",
              "  <svg xmlns=\"http://www.w3.org/2000/svg\" height=\"24px\" viewBox=\"0 -960 960 960\">\n",
              "    <path d=\"M120-120v-720h720v720H120Zm60-500h600v-160H180v160Zm220 220h160v-160H400v160Zm0 220h160v-160H400v160ZM180-400h160v-160H180v160Zm440 0h160v-160H620v160ZM180-180h160v-160H180v160Zm440 0h160v-160H620v160Z\"/>\n",
              "  </svg>\n",
              "    </button>\n",
              "\n",
              "  <style>\n",
              "    .colab-df-container {\n",
              "      display:flex;\n",
              "      gap: 12px;\n",
              "    }\n",
              "\n",
              "    .colab-df-convert {\n",
              "      background-color: #E8F0FE;\n",
              "      border: none;\n",
              "      border-radius: 50%;\n",
              "      cursor: pointer;\n",
              "      display: none;\n",
              "      fill: #1967D2;\n",
              "      height: 32px;\n",
              "      padding: 0 0 0 0;\n",
              "      width: 32px;\n",
              "    }\n",
              "\n",
              "    .colab-df-convert:hover {\n",
              "      background-color: #E2EBFA;\n",
              "      box-shadow: 0px 1px 2px rgba(60, 64, 67, 0.3), 0px 1px 3px 1px rgba(60, 64, 67, 0.15);\n",
              "      fill: #174EA6;\n",
              "    }\n",
              "\n",
              "    .colab-df-buttons div {\n",
              "      margin-bottom: 4px;\n",
              "    }\n",
              "\n",
              "    [theme=dark] .colab-df-convert {\n",
              "      background-color: #3B4455;\n",
              "      fill: #D2E3FC;\n",
              "    }\n",
              "\n",
              "    [theme=dark] .colab-df-convert:hover {\n",
              "      background-color: #434B5C;\n",
              "      box-shadow: 0px 1px 3px 1px rgba(0, 0, 0, 0.15);\n",
              "      filter: drop-shadow(0px 1px 2px rgba(0, 0, 0, 0.3));\n",
              "      fill: #FFFFFF;\n",
              "    }\n",
              "  </style>\n",
              "\n",
              "    <script>\n",
              "      const buttonEl =\n",
              "        document.querySelector('#df-fc8cca58-b96b-43d9-8355-ed096c2b39aa button.colab-df-convert');\n",
              "      buttonEl.style.display =\n",
              "        google.colab.kernel.accessAllowed ? 'block' : 'none';\n",
              "\n",
              "      async function convertToInteractive(key) {\n",
              "        const element = document.querySelector('#df-fc8cca58-b96b-43d9-8355-ed096c2b39aa');\n",
              "        const dataTable =\n",
              "          await google.colab.kernel.invokeFunction('convertToInteractive',\n",
              "                                                    [key], {});\n",
              "        if (!dataTable) return;\n",
              "\n",
              "        const docLinkHtml = 'Like what you see? Visit the ' +\n",
              "          '<a target=\"_blank\" href=https://colab.research.google.com/notebooks/data_table.ipynb>data table notebook</a>'\n",
              "          + ' to learn more about interactive tables.';\n",
              "        element.innerHTML = '';\n",
              "        dataTable['output_type'] = 'display_data';\n",
              "        await google.colab.output.renderOutput(dataTable, element);\n",
              "        const docLink = document.createElement('div');\n",
              "        docLink.innerHTML = docLinkHtml;\n",
              "        element.appendChild(docLink);\n",
              "      }\n",
              "    </script>\n",
              "  </div>\n",
              "\n",
              "\n",
              "<div id=\"df-a406eab0-e77b-4c60-9abb-e5690d36c11f\">\n",
              "  <button class=\"colab-df-quickchart\" onclick=\"quickchart('df-a406eab0-e77b-4c60-9abb-e5690d36c11f')\"\n",
              "            title=\"Suggest charts\"\n",
              "            style=\"display:none;\">\n",
              "\n",
              "<svg xmlns=\"http://www.w3.org/2000/svg\" height=\"24px\"viewBox=\"0 0 24 24\"\n",
              "     width=\"24px\">\n",
              "    <g>\n",
              "        <path d=\"M19 3H5c-1.1 0-2 .9-2 2v14c0 1.1.9 2 2 2h14c1.1 0 2-.9 2-2V5c0-1.1-.9-2-2-2zM9 17H7v-7h2v7zm4 0h-2V7h2v10zm4 0h-2v-4h2v4z\"/>\n",
              "    </g>\n",
              "</svg>\n",
              "  </button>\n",
              "\n",
              "<style>\n",
              "  .colab-df-quickchart {\n",
              "      --bg-color: #E8F0FE;\n",
              "      --fill-color: #1967D2;\n",
              "      --hover-bg-color: #E2EBFA;\n",
              "      --hover-fill-color: #174EA6;\n",
              "      --disabled-fill-color: #AAA;\n",
              "      --disabled-bg-color: #DDD;\n",
              "  }\n",
              "\n",
              "  [theme=dark] .colab-df-quickchart {\n",
              "      --bg-color: #3B4455;\n",
              "      --fill-color: #D2E3FC;\n",
              "      --hover-bg-color: #434B5C;\n",
              "      --hover-fill-color: #FFFFFF;\n",
              "      --disabled-bg-color: #3B4455;\n",
              "      --disabled-fill-color: #666;\n",
              "  }\n",
              "\n",
              "  .colab-df-quickchart {\n",
              "    background-color: var(--bg-color);\n",
              "    border: none;\n",
              "    border-radius: 50%;\n",
              "    cursor: pointer;\n",
              "    display: none;\n",
              "    fill: var(--fill-color);\n",
              "    height: 32px;\n",
              "    padding: 0;\n",
              "    width: 32px;\n",
              "  }\n",
              "\n",
              "  .colab-df-quickchart:hover {\n",
              "    background-color: var(--hover-bg-color);\n",
              "    box-shadow: 0 1px 2px rgba(60, 64, 67, 0.3), 0 1px 3px 1px rgba(60, 64, 67, 0.15);\n",
              "    fill: var(--button-hover-fill-color);\n",
              "  }\n",
              "\n",
              "  .colab-df-quickchart-complete:disabled,\n",
              "  .colab-df-quickchart-complete:disabled:hover {\n",
              "    background-color: var(--disabled-bg-color);\n",
              "    fill: var(--disabled-fill-color);\n",
              "    box-shadow: none;\n",
              "  }\n",
              "\n",
              "  .colab-df-spinner {\n",
              "    border: 2px solid var(--fill-color);\n",
              "    border-color: transparent;\n",
              "    border-bottom-color: var(--fill-color);\n",
              "    animation:\n",
              "      spin 1s steps(1) infinite;\n",
              "  }\n",
              "\n",
              "  @keyframes spin {\n",
              "    0% {\n",
              "      border-color: transparent;\n",
              "      border-bottom-color: var(--fill-color);\n",
              "      border-left-color: var(--fill-color);\n",
              "    }\n",
              "    20% {\n",
              "      border-color: transparent;\n",
              "      border-left-color: var(--fill-color);\n",
              "      border-top-color: var(--fill-color);\n",
              "    }\n",
              "    30% {\n",
              "      border-color: transparent;\n",
              "      border-left-color: var(--fill-color);\n",
              "      border-top-color: var(--fill-color);\n",
              "      border-right-color: var(--fill-color);\n",
              "    }\n",
              "    40% {\n",
              "      border-color: transparent;\n",
              "      border-right-color: var(--fill-color);\n",
              "      border-top-color: var(--fill-color);\n",
              "    }\n",
              "    60% {\n",
              "      border-color: transparent;\n",
              "      border-right-color: var(--fill-color);\n",
              "    }\n",
              "    80% {\n",
              "      border-color: transparent;\n",
              "      border-right-color: var(--fill-color);\n",
              "      border-bottom-color: var(--fill-color);\n",
              "    }\n",
              "    90% {\n",
              "      border-color: transparent;\n",
              "      border-bottom-color: var(--fill-color);\n",
              "    }\n",
              "  }\n",
              "</style>\n",
              "\n",
              "  <script>\n",
              "    async function quickchart(key) {\n",
              "      const quickchartButtonEl =\n",
              "        document.querySelector('#' + key + ' button');\n",
              "      quickchartButtonEl.disabled = true;  // To prevent multiple clicks.\n",
              "      quickchartButtonEl.classList.add('colab-df-spinner');\n",
              "      try {\n",
              "        const charts = await google.colab.kernel.invokeFunction(\n",
              "            'suggestCharts', [key], {});\n",
              "      } catch (error) {\n",
              "        console.error('Error during call to suggestCharts:', error);\n",
              "      }\n",
              "      quickchartButtonEl.classList.remove('colab-df-spinner');\n",
              "      quickchartButtonEl.classList.add('colab-df-quickchart-complete');\n",
              "    }\n",
              "    (() => {\n",
              "      let quickchartButtonEl =\n",
              "        document.querySelector('#df-a406eab0-e77b-4c60-9abb-e5690d36c11f button');\n",
              "      quickchartButtonEl.style.display =\n",
              "        google.colab.kernel.accessAllowed ? 'block' : 'none';\n",
              "    })();\n",
              "  </script>\n",
              "</div>\n",
              "\n",
              "  <div id=\"id_c5253e4c-ac23-4c5a-b2af-7c896ff23356\">\n",
              "    <style>\n",
              "      .colab-df-generate {\n",
              "        background-color: #E8F0FE;\n",
              "        border: none;\n",
              "        border-radius: 50%;\n",
              "        cursor: pointer;\n",
              "        display: none;\n",
              "        fill: #1967D2;\n",
              "        height: 32px;\n",
              "        padding: 0 0 0 0;\n",
              "        width: 32px;\n",
              "      }\n",
              "\n",
              "      .colab-df-generate:hover {\n",
              "        background-color: #E2EBFA;\n",
              "        box-shadow: 0px 1px 2px rgba(60, 64, 67, 0.3), 0px 1px 3px 1px rgba(60, 64, 67, 0.15);\n",
              "        fill: #174EA6;\n",
              "      }\n",
              "\n",
              "      [theme=dark] .colab-df-generate {\n",
              "        background-color: #3B4455;\n",
              "        fill: #D2E3FC;\n",
              "      }\n",
              "\n",
              "      [theme=dark] .colab-df-generate:hover {\n",
              "        background-color: #434B5C;\n",
              "        box-shadow: 0px 1px 3px 1px rgba(0, 0, 0, 0.15);\n",
              "        filter: drop-shadow(0px 1px 2px rgba(0, 0, 0, 0.3));\n",
              "        fill: #FFFFFF;\n",
              "      }\n",
              "    </style>\n",
              "    <button class=\"colab-df-generate\" onclick=\"generateWithVariable('blog')\"\n",
              "            title=\"Generate code using this dataframe.\"\n",
              "            style=\"display:none;\">\n",
              "\n",
              "  <svg xmlns=\"http://www.w3.org/2000/svg\" height=\"24px\"viewBox=\"0 0 24 24\"\n",
              "       width=\"24px\">\n",
              "    <path d=\"M7,19H8.4L18.45,9,17,7.55,7,17.6ZM5,21V16.75L18.45,3.32a2,2,0,0,1,2.83,0l1.4,1.43a1.91,1.91,0,0,1,.58,1.4,1.91,1.91,0,0,1-.58,1.4L9.25,21ZM18.45,9,17,7.55Zm-12,3A5.31,5.31,0,0,0,4.9,8.1,5.31,5.31,0,0,0,1,6.5,5.31,5.31,0,0,0,4.9,4.9,5.31,5.31,0,0,0,6.5,1,5.31,5.31,0,0,0,8.1,4.9,5.31,5.31,0,0,0,12,6.5,5.46,5.46,0,0,0,6.5,12Z\"/>\n",
              "  </svg>\n",
              "    </button>\n",
              "    <script>\n",
              "      (() => {\n",
              "      const buttonEl =\n",
              "        document.querySelector('#id_c5253e4c-ac23-4c5a-b2af-7c896ff23356 button.colab-df-generate');\n",
              "      buttonEl.style.display =\n",
              "        google.colab.kernel.accessAllowed ? 'block' : 'none';\n",
              "\n",
              "      buttonEl.onclick = () => {\n",
              "        google.colab.notebook.generateWithVariable('blog');\n",
              "      }\n",
              "      })();\n",
              "    </script>\n",
              "  </div>\n",
              "\n",
              "    </div>\n",
              "  </div>\n"
            ],
            "application/vnd.google.colaboratory.intrinsic+json": {
              "type": "dataframe",
              "variable_name": "blog",
              "summary": "{\n  \"name\": \"blog\",\n  \"rows\": 19997,\n  \"fields\": [\n    {\n      \"column\": \"Unnamed: 0\",\n      \"properties\": {\n        \"dtype\": \"number\",\n        \"std\": 5772,\n        \"min\": 0,\n        \"max\": 19996,\n        \"num_unique_values\": 19997,\n        \"samples\": [\n          10747,\n          4949,\n          3352\n        ],\n        \"semantic_type\": \"\",\n        \"description\": \"\"\n      }\n    },\n    {\n      \"column\": \"Data\",\n      \"properties\": {\n        \"dtype\": \"string\",\n        \"num_unique_values\": 19466,\n        \"samples\": [\n          \"Xref: cantaloupe.srv.cs.cmu.edu soc.religion.christian:21662\\nPath: cantaloupe.srv.cs.cmu.edu!das-news.harvard.edu!noc.near.net!howland.reston.ans.net!agate!ames!pacbell.com!att-out!rutgers!igor.rutgers.edu!geneva.rutgers.edu!christian\\nFrom: af664@yfn.ysu.edu (Frank DeCenso, Jr.)\\nNewsgroups: soc.religion.christian\\nSubject: Re: _Christianity In Crisis_\\nMessage-ID: <May.18.00.54.53.1993.9551@geneva.rutgers.edu>\\nDate: 18 May 93 04:54:54 GMT\\nSender: hedrick@geneva.rutgers.edu\\nOrganization: Youngstown State/Youngstown Free-Net\\nLines: 371\\nApproved: christian@aramis.rutgers.edu\\n\\nFrom Bit.listserv.christia\\n\\nZane writes...\\n \\nFrom: FACN34B@SAUPM00.BITNET (zane of dhahan)\\n>Newsgroups: bit.listserv.christia\\nSubject: Christianity in Crisis\\nDate: Wed May 12 14:43:19 1993\\n \\n\\\"Frank, first of all, thanks for all of the great Scripture verses.  It\\nwas a pleasure to read them.\\\"\\n \\nMY REPLY...\\nYou are welcome, Zane.\\n \\nZane...\\n\\\"I am sure nothing that I will say will change your mind about it... but I\\nwould like to ask you if the book in question really does anything for you.\\nI mean, were you all caught up in the word/faith thing, but now that you\\nhave read the book you've been rescued from all of the error and pain that\\nwill result in your Christian life?\\\"\\n \\nMY REPLY...\\n(1) When I first became a Christian, I entered into the Word/Faith\\n    movement.  It was easy.  I wasn't grounded in the Word of God and sound\\n    doctrine.  When I visited Christian book stores, the cheapest books I\\n    could find to buy were the .50 and $1.00 books by Hagin and others.\\n    Consequently, I began receiving Hagin's monthly magazine (and they\\n    still send it to me), and also Copeland's (also, still sent to me).\\n    It wasn't until I read a booklet by Jimmy Swaggart called _Hyper Faith:\\n    The New Gnosticism_ that I began to realize the teachings I were\\n    partaking of were error.  I started reading the Bible more and studying\\n    more.  Sure enough, Jimmy was right in many points.  As part of my\\n    experience, I am alerting Christians, particularly new Christians, that\\n    these teachings are heretical and they need to do as the Bereans did in\\n    Acts 17:11 - check these teachings out with Scripture!\\n \\n(2) My brother in law was involved in a Word/Faith \\\"cult\\\" in my area - it's\\n    leader is real good friends with Benny Hinn.  Rather then going into\\n    much detail about this, suffice it to say he was deceived, mistreated, and\\n    has now fallen into atheism.  I'm still praying for him (Phil. 1:6).\\n \\n(3) The assistant pastor at the church I teach adult Sunday School in has been\\n    a `follower' of Copeland for 15 years.  He has thousands of tapes by the\\n    Faith teachers.  In the class recently, I quoted several of the teachers'\\n    heretical statements to his surprise.  Since then, I've been able to talk\\n    to him at length about these issues.\\n \\n(4) The leader of the Women's Group at my church is a Benny Hinn `fan'.\\n    Recently, I found that she has been lending _Good Morning, Holy Spirit_ to\\n    women in the church.  That prompted my quotes in Sunday School, as well as\\n    my lending CIC to people in the church.\\n \\nI'm well aware of the abuses and heresies perpetrated in this movement and\\nhave an urgency in my heart and life to warn people about the heresies.\\nWhat heresies?\\n    A. Jesus became sin - took on the very nature of the devil, and became\\n        one with him.\\n    B. Jesus' death on the cross wasn't enough to atone.\\n    C. Jesus was dragged to hell after His death, was beat and abused by\\n        Satan and demons, thus finishing our atonement.  Satan was ruling\\n        over Him there.\\n    D. Jesus was `born-again' in hell.\\n    E. Jesus died spiritually, lost His divinity, and reassumed it after\\n        the resurrection.\\n    F. We are gods.\\n \\nThese are heresies.  Documentation will be provided re: these teachings\\nupon request.\\n \\nZane...\\n\\\"Or what does it do for you?  Is it preventing you from going out and\\njoining up with the word/faith movement which you'd been contemplating\\njoining for so long, but now that you've read the book, you've been saved\\nfrom all of that?\\\"\\n \\nMY REPLY...\\nIt wasn't _Christianity In Crisis_ that helped me; it was a booklet by\\nSwaggart that I mentioned above.  But CIC is MUCH, MUCH better - tremendous\\ndocumentation and insights.\\n \\nZane...\\n\\\"I don't have a nice Scriptural answer for why I believe it is at best un-\\nprofitable for Christians to engage in this type of activity - heresy hunting.\\\"\\n \\nMY REPLY...\\nWhy do you call it \\\"heresy hunting\\\"?  \\\"Hunting\\\" implies it isn't readily\\naccessible or available.  This movement is the fastest growing movement in\\nChristendom.  Hagin has sold over 40 million books and booklets.  Hinn has sold\\nmore books in the last couple of years than Swindoll and Dobson combined.  Fred\\nPrice has the largest church in terms of seating capacity in the USA.  Doesn't\\nsound like much \\\"hunting\\\" is needed.\\n \\nIt is Scriptural to expose doctrinal error.  I gave some verses to you before.\\nMore can be given.  Most of the epistles were written due to error (doctrinal,\\npractical) in the churches.  The early church had numerous councils to expose\\nerror and heresy.  It's not a new thing.  Remember Luther?\\n \\nZane...\\n\\\"I would like to point out though, that historically those who hunt heretics\\noften end up causing a bigger mess than the heretics... but this is my un-\\ndocumented opinion.\\\"\\n \\nMY REPLY...\\n(1) If you can provide documentation, it would be appreciated.\\n(2) Read Ephesians 4:11-16, esp. vss. 13 and 14 and tell me what causes\\n    disunity and immaturity in the body.\\n \\nEPH 4:13-14 till we all come to the unity of the faith and of the knowledge of\\nthe Son of God, to a perfect man, to the measure of the stature of the fullness\\nof Christ; that we should no longer be children, tossed to and fro and carried\\nabout with every wind of doctrine, by the trickery of men, in the cunning\\ncraftiness of deceitful plotting....\\n \\nDisunity, contrary to popular opinion, isn't caused by exposing error; it's\\ncaused by error.\\n \\nZane...\\n\\\"There are many who probably give no place for seeing the Scriptures as\\ndocumenting a Spiritual development or growth in its writers - but I would\\nsuggest that the fiery Paul of the letter to the Galatians mellows and\\nmatures into the one who loses all for the sake of Love in the End.\\\"\\n \\nMY REPLY...\\nMost scholars believe Paul wrote 2 Timothy last.  Let's examine his admonitions\\nto Tim to ascertain how mellow he had become...\\n \\n2TI 1:13-15 Hold fast the pattern of sound words which you have heard from me,\\nin faith and love which are in Christ Jesus. That good thing which was\\ncommitted to you, keep by the Holy Spirit who dwells in us. This you know, that\\nall those in Asia have turned away from me, among whom are Phygellus and\\nHermogenes.\\n \\n2TI 2:15-18 Be diligent to present yourself approved to God, a worker who does\\nnot need to be ashamed, rightly dividing the word of truth. But shun profane\\nand idle babblings, for they will increase to more ungodliness. And their\\nmessage will spread like cancer. Hymenaeus and Philetus are of this sort, who\\nhave strayed concerning the truth, saying that the resurrection is already\\npast; and they overthrow the faith of some.\\n \\n2TI 2:24-26 And a servant of the Lord must not quarrel but be gentle to all,\\nable to teach, patient, in humility correcting those who are in opposition, if\\nGod perhaps will grant them repentance, so that they may know the truth, and\\nthat they may come to their senses and escape the snare of the devil, having\\nbeen taken captive by him to do his will.\\n \\n2TI 3:6-9 For of this sort are those who creep into households and make\\ncaptives of gullible women loaded down with sins, led away by various lusts,\\nalways learning and never able to come to the knowledge of the truth. Now as\\nJannes and Jambres resisted Moses, so do these also resist the truth: men of\\ncorrupt minds, disapproved concerning the faith; but they will progress no\\nfurther, for their folly will be manifest to all, as theirs also was.\\n \\n2TI 3:12-17 Yes, and all who desire to live godly in Christ Jesus will suffer\\npersecution. But evil men and impostors will grow worse and worse, deceiving\\nand being deceived. But you must continue in the things which you have learned\\nand been assured of, knowing from whom you have learned them, and that from\\nchildhood you have known the Holy Scriptures, which are able to make you wise\\nfor salvation through faith which is in Christ Jesus. All Scripture is given by\\ninspiration of God, and is profitable for doctrine, for reproof, for\\ncorrection, for instruction in righteousness, that the man of God may be\\ncomplete, thoroughly equipped for every good work.\\n \\n2TI 4:2-5 Preach the word! Be ready in season and out of season. Convince,\\nrebuke, exhort, with all longsuffering and teaching. For the time will come\\nwhen they will not endure sound doctrine, but according to their own desires,\\nbecause they have itching ears, they will heap up for themselves teachers; and\\nthey will turn their ears away from the truth, and be turned aside to fables.\\nBut you be watchful in all things, endure afflictions, do the work of an\\nevangelist, fulfill your ministry.\\n \\n2TI 4:14-15 Alexander the coppersmith did me much harm. May the Lord repay him\\naccording to his works. You also must beware of him, for he has greatly\\nresisted our words.\\n \\nZane...\\n\\\"The picture I have of Paul is not of one who goes out of his way to destroy\\nthe ministry of wolves... but of one who teaches the sheep, with many tears,\\nthe necessity of absolutely not allowing themselves to be transformed into\\nwolves to protect themselves.\\\"\\n \\nMY REPLY...\\nACT 20:26-31 \\\"Therefore I testify to you this day that I am innocent of the\\nblood of all men. \\\"For I have not shunned to declare to you the whole counsel\\nof God. \\\"Therefore take heed to yourselves and to all the flock, among which\\nthe Holy Spirit has made you overseers, to shepherd the church of God which He\\npurchased with His own blood. \\\"For I know this, that after my departure savage\\nwolves will come in among you, not sparing the flock. \\\"Also from among\\nyourselves men will rise up, speaking perverse things, to draw away the\\ndisciples after themselves. \\\"Therefore watch, and remember that for three years\\nI did not cease to warn everyone night and day with tears.\\n \\nZane...\\n\\\"For all the warning Paul does, it is of note that he never once drops a name\\nof a wolf....  - but I will admit he cries in his beard at the end over those\\nwho have abandoned him - everyone in Asia wasn't it ?\\\"\\n \\nMY REPLY...\\nPaul mentioned names...\\n \\n1TI 1:18-20 This charge I commit to you, son Timothy, according to the\\nprophecies previously made concerning you, that by them you may wage the good\\nwarfare, having faith and a good conscience, which some having rejected,\\nconcerning the faith have suffered shipwreck, of whom are Hymenaeus and\\nAlexander, whom I delivered to Satan that they may learn not to blaspheme.\\n \\n2TI 1:15 This you know, that all those in Asia have turned away from me, among\\nwhom are Phygellus and Hermogenes.\\n \\n2TI 2:16-18 But shun profane and idle babblings, for they will increase to more\\nungodliness. And their message will spread like cancer. Hymenaeus and Philetus\\nare of this sort, who have strayed concerning the truth, saying that the\\nresurrection is already past; and they overthrow the faith of some.\\n \\n2TI 4:10 for Demas has forsaken me, having loved this present world, and has\\ndeparted for Thessalonica--Crescens for Galatia, Titus for Dalmatia.\\n \\n2TI 4:14-15 Alexander the coppersmith did me much harm. May the Lord repay him\\naccording to his works. You also must beware of him, for he has greatly\\nresisted our words.\\n \\nSo did John...\\n \\n3JO 1:9-10 I wrote to the church, but Diotrephes, who loves to have the\\npreeminence among them, does not receive us. Therefore, if I come, I will call\\nto mind his deeds which he does, prating against us with malicious words. And\\nnot content with that, he himself does not receive the brethren, and forbids\\nthose who wish to, putting them out of the church.\\n \\nJesus also singled out teachings and doctrines...\\n \\nREV 2:14-16 \\\"But I have a few things against you, because you have there those\\nwho hold the doctrine of Balaam, who taught Balak to put a stumbling block\\nbefore the children of Israel, to eat things sacrificed to idols, and to commit\\nsexual immorality. \\\"Thus you also have those who hold the doctrine of the\\nNicolaitans, which thing I hate. 'Repent, or else I will come to you quickly\\nand will fight against them with the sword of My mouth.\\n \\nREV 2:20-23 \\\"Nevertheless I have a few things against you, because you allow\\nthat woman Jezebel, who calls herself a prophetess, to teach and seduce My\\nservants to commit sexual immorality and eat things sacrificed to idols. \\\"And I\\ngave her time to repent of her sexual immorality, and she did not repent.\\n\\\"Indeed I will cast her into a sickbed, and those who commit adultery with her\\ninto great tribulation, unless they repent of their deeds. \\\"I will kill her\\nchildren with death, and all the churches shall know that I am He who searches\\nthe minds and hearts. And I will give to each one of you according to your\\nworks.\\n \\nZane...\\n\\\"I question too, the purposes of those who write books and build ministries\\non the faults - deliberate or otherwise - of others.  Maybe if they would\\nwander around in the desert eating locust and honey, or barely cakes...with\\nno worldly goods at stake, money to be made, or no reputations to maintain...\\nI would question their motives - conscious or otherwise - less.\\\"\\n \\nMY REPLY...\\nI won't comment on this because it deals with the intangible motives of others.\\nBut even if they had bad motives, remember what Paul said...\\n \\nPHI 1:15-18 Some indeed preach Christ even from envy and strife, and some also\\nfrom good will: The former preach Christ from selfish ambition, not sincerely,\\nsupposing to add affliction to my chains; but the latter out of love, knowing\\nthat I am appointed for the defense of the gospel. What then? Only that in\\nevery way, whether in pretense or in truth, Christ is preached; and in this I\\nrejoice, yes, and will rejoice.\\n \\nZane...\\n\\\"If we want to be true to the admonitions of Scripture - many of which you\\nlist - about protecting ourselves and the flock from wolves and winds of\\ndoctrines, I suggest we start by allowing the wolf-program in our own noetic\\npasture to be nailed to the Cross.\\\"\\n \\nMY REPLY...\\nPlease explain.\\n \\nZane...\\n\\\"Secondly, I suggest any heresy hunting be restricted to our own fellowships -\\nwhich in the strict Scriptural sense is the local city-church.\\\"\\n \\nMY REPLY...\\nIf heresy was not being propagated over the mass media, then it may not be\\nneeded to go mass media with the exposure.  Unfortunately, heresy is being\\ntaught not just in Copeland's church or Hagin's or Hinn's or Price's, but all\\nover the radio, in print, etc.  No pastor or church leader knows what materials\\nthe sheep are feeding on outside the church.  It's imperative that leadership\\nbe made aware of this, and CIC does just that.\\n \\nAlso, let's examine a passage of Scripture...\\n* EPH 4:11 And He Himself gave some to be apostles, some prophets, some\\nevangelists, and some pastors and teachers,\\n* EPH 4:12 for the equipping of the saints for the work of ministry, for the\\nedifying of the body of Christ,\\n \\nThese ministry gifts that the Lord installs in the church are not just for one\\nindividual church, but for \\\"the body of Christ\\\".\\nPaul was an apostle - he traveled all over distilling his message.  He was also\\na teacher -\\n1CO 4:17 For this reason I have sent Timothy to you, who is my beloved and\\nfaithful son in the Lord, who will remind you of my ways in Christ, as I teach\\neverywhere in every church.\\n1CO 7:17 But as God has distributed to each one, as the Lord has called each\\none, so let him walk. And so I ordain in all the churches.\\n \\nAlso -\\n1CO 12:28 And God has appointed these in the church: first apostles, second\\nprophets, third teachers, after that miracles, then gifts of healings, helps,\\nadministrations, varieties of tongues.\\n \\n* EPH 4:13 till we all come to the unity of the faith and of the knowledge of\\nthe Son of God, to a perfect man, to the measure of the stature of the fullness\\nof Christ;\\n \\nNotice that the \\\"Five-Fold\\\" ministries are going to be around \\\"till\\\" the church\\nis in \\\"unity of the faith and of the knowledge of the Son of God to a perfect\\nman\\\".  This, I believe will not occur fully until the Lord Jesus returns (see\\n1Cor. 13:9-12).  But God wants the body to continue on maturing.  What hinders\\nmaturity and unity of the body?\\n \\n* EPH 4:14 that we should no longer be children, tossed to and fro and carried\\nabout with every wind of doctrine, by the trickery of men, in the cunning\\ncraftiness of deceitful plotting,\\n \\nIt's clear that false doctrine, integrated into the church \\\"by the trickery of\\nmen\\\" causes (1) disunity [the thing we are striving for] and (2) spiritual\\nimmaturity - the church continues in spiritual childhood when Christians are\\n\\\"tossed to and fro and carried about with every wind of doctrine\\\".\\n \\nThe \\\"Five -Fold\\\" ministry, of which there does not appear to be clear\\nScriptural denominational boundaries (\\\"pastors\\\" appear responsible for their\\nindividual flock), is to deal with these doctrines (when necessary) in their\\nstruggle to equip the body.\\n \\nAll believers are called to do this to a degree...\\nJUD 1:3-4 Beloved, while I was very diligent to write to you concerning our\\ncommon salvation, I found it necessary to write to you exhorting you to contend\\nearnestly for the faith which was once for all delivered to the saints. For\\ncertain men have crept in unnoticed, who long ago were marked out for this\\ncondemnation, ungodly men, who turn the grace of our God into lewdness and deny\\nthe only Lord God and our Lord Jesus Christ.\\n \\nZane...\\n\\\"If you'll notice, in Scripture the heresy hunters that went from Church to\\nChurch and area to area, were the \\\"bad guys\\\" and they went after the \\\"good guy\\\"\\nnamely Paul - who they considered to be the arch heretic.\\\"\\n \\nMY REPLY...\\nThey were themselves heretics trying to discredit Paul who was preaching\\ncontrary to what they taught!\\n \\nZane...\\n\\\"Let's face it, the wolves are here for a reason.  And we are here for the\\nReason.  And let's hope the wolves become sheep, and the sheep, lambs.\\\"\\n \\nMY REPLY...\\nYes!\\n2TI 2:24-26 And a servant of the Lord must not quarrel but be gentle to all,\\n                                                           ~~~~~~~~~~~~~~~~\\nable to teach, patient, in humility correcting those who are in opposition, if\\n~~~~~~~~~~~~~~~~~~~~~~~~~~~~~~~~~~~~~~~~~~~~~~~~~~~~~~~~~~~~~~~~~~~~~~~~~~  ~~\\nGod perhaps will grant them repentance, so that they may know the truth, and\\n~~~~~~~~~~~~~~~~~~~~~~~~~~~~~~~~~~~~~~\\nthat they may come to their senses and escape the snare of the devil, having\\nbeen taken captive by him to do his will.\\n \\nAMEN!\\n\\n\\nFrank\\n-- \\n\\\"If one wished to contend with Him, he could not answer Him one time out\\n of a thousand.\\\"  JOB 9:3\\n\",\n          \"Path: cantaloupe.srv.cs.cmu.edu!crabapple.srv.cs.cmu.edu!bb3.andrew.cmu.edu!news.sei.cmu.edu!cis.ohio-state.edu!zaphod.mps.ohio-state.edu!howland.reston.ans.net!agate!dog.ee.lbl.gov!network.ucsd.edu!munnari.oz.au!goanna!escargot!minyos.xx.rmit.OZ.AU!s872505\\nFrom: s872505@minyos.xx.rmit.OZ.AU (Stephen Bokor)\\nNewsgroups: comp.sys.ibm.pc.hardware\\nSubject: Re: A: DRIVE WON'T BOOT\\nMessage-ID: <1r2h10INNh3l@escargot.xx.rmit.OZ.AU>\\nDate: 21 Apr 93 04:02:40 GMT\\nReferences: <120922@netnews.upenn.edu>\\nOrganization: Royal Melbourne Institute of Technology\\nLines: 36\\nNNTP-Posting-Host: minyos.xx.rmit.oz.au\\n\\nbalog@eniac.seas.upenn.edu (Eric J Balog) writes:\\n\\n>Hi!\\n\\n>I recently switched my 3.5\\\" drive to A:. The problem is, while I can read and\\n>write to both the new A: and B: correctly, I can't boot from a floppy in A:.\\n>I've checked the CMOS settings; it is set for Floppy Seek at Boot and Boot \\n>Order A:,C:. \\n\\n>Once, I had a floppy that did not have the systems files on it in A:. I got a\\n>message telling me to put a disk systems disk in the drive. It didn't work.\\n>When I do have a systems disk in the A: drive, this is what happens:\\n>1) Power-on and Memory Test;\\n>2) A: light comes on\\n>3) B: light comes on, followed by a short beep;\\n>4) HD light comes on for an instant;\\n>5) B: light comes on again, then nothing happens\\n\\n>The light goes off, there is no disk activity of any kind, and the screen \\n>blanks. I can't even use ctrl-alt-del.\\n\\n>Any suggestions.\\n\\nHave you checked: 1/ The setting of drive A: to 1.44 M floppy.\\n\\t\\t\\t\\t\\t\\t2/ The setting of drive B: to 1.2 M foppy.\\n\\t\\t\\t\\t\\t\\t3/ The cable connecting the two drives to\\n\\t\\t\\t\\t\\t\\tthe controller card (I can't remember which\\n\\t\\t\\t\\t\\t\\ttwo wires are swapped, but they determine\\n\\t\\t\\t\\t\\t\\twhich is drive A: & b:).\\n\\nI hope this is of some help :-)\\n\\n\\nSteve\\n\\ns872505@minyos.xx.oz.au\\n\",\n          \"Path: cantaloupe.srv.cs.cmu.edu!das-news.harvard.edu!noc.near.net!howland.reston.ans.net!ira.uka.de!news.dfn.de!mailgzrz.TU-Berlin.DE!news.netmbx.de!Germany.EU.net!rz.uni-hildesheim.de!agsc!erni.escape.de!s-link.escape.de!kwgeitz\\nFrom: kwgeitz@s-link.escape.de (Karl-W. Geitz)\\nNewsgroups: comp.os.ms-windows.misc\\nSubject: Re: Data segments and memory model usage\\nMessage-ID: <50phS3ykPo@s-link.escape.de>\\nOrganization: -S-LINK-> Public Mailbox, Braunschweig, Germany\\nDate: Fri, 14 May 1993 19:24:00 +0200\\nLines: 36\\n\\nHello phjm, you wrote:\\n\\n> Firstly, does Windows 3.1 in 386 enhanced mode do anything special\\n> with DLLs that have been compiled using the large memory model?\\n\\nNo.\\n\\n> We are being told that even in 386 enhanced mode Windows\\n> will load DLLs into *real memory below 640K* and page-lock it.\\n\\nNo.\\n\\n> My second question relates to static data inside DLLs. Is there\\n> any way at all to get multiple instances of the static data\\n> segment (DGROUP?)?\\n\\nNo, but...\\n\\nYou can allocate real static data within code segments!\\nWhen you need more dynamic memory you can allocate data on the global heap.\\n\\nYou can forget most of what was written about memory management. Under 3.1\\nyou have paged virtual memory. You can lock every block without hampering\\nthe memory manager. You can use far pointer everytime without always Lock/\\nUnlocking the memory block.\\n\\nAn besides: DLL's are mostly just disguised EXE's, that happen to be called\\nby another task.\\n\\n\\nKarl.\\n\\n------------------------------------------------------------------------\\nKarl-W.Geitz, Hauptstr.50, W-3320 Salzgitter 1, kwgeitz@s-link.escape.de\\nTEL: +49-5300-6701 FAX: +49-5300-6499 CIS: 100010,204 BIX: geitzkwg\\n## CrossPoint v2.1 ##\\n\"\n        ],\n        \"semantic_type\": \"\",\n        \"description\": \"\"\n      }\n    },\n    {\n      \"column\": \"Labels\",\n      \"properties\": {\n        \"dtype\": \"category\",\n        \"num_unique_values\": 20,\n        \"samples\": [\n          \"alt.atheism\",\n          \"talk.politics.mideast\",\n          \"soc.religion.christian\"\n        ],\n        \"semantic_type\": \"\",\n        \"description\": \"\"\n      }\n    }\n  ]\n}"
            }
          },
          "metadata": {},
          "execution_count": 3
        }
      ]
    },
    {
      "cell_type": "code",
      "source": [
        "blog.Data[2]"
      ],
      "metadata": {
        "colab": {
          "base_uri": "https://localhost:8080/",
          "height": 162
        },
        "id": "GPet-vCpHMcZ",
        "outputId": "80776e98-0daa-46ee-a289-983c241fd0e9"
      },
      "execution_count": 4,
      "outputs": [
        {
          "output_type": "execute_result",
          "data": {
            "text/plain": [
              "'Newsgroups: alt.atheism\\nPath: cantaloupe.srv.cs.cmu.edu!crabapple.srv.cs.cmu.edu!fs7.ece.cmu.edu!europa.eng.gtefsd.com!howland.reston.ans.net!usc!sdd.hp.com!nigel.msen.com!yale.edu!ira.uka.de!news.dfn.de!tubsibr!dbstu1.rz.tu-bs.de!I3150101\\nFrom: I3150101@dbstu1.rz.tu-bs.de (Benedikt Rosenau)\\nSubject: Re: Gospel Dating\\nMessage-ID: <16BA711B3A.I3150101@dbstu1.rz.tu-bs.de>\\nSender: postnntp@ibr.cs.tu-bs.de (Mr. Nntp Inews Entry)\\nOrganization: Technical University Braunschweig, Germany\\nReferences: <16BA1E197.I3150101@dbstu1.rz.tu-bs.de> <65974@mimsy.umd.edu>\\nDate: Mon, 5 Apr 1993 19:08:25 GMT\\nLines: 93\\n\\nIn article <65974@mimsy.umd.edu>\\nmangoe@cs.umd.edu (Charley Wingate) writes:\\n \\n>>Well, John has a quite different, not necessarily more elaborated theology.\\n>>There is some evidence that he must have known Luke, and that the content\\n>>of Q was known to him, but not in a \\'canonized\\' form.\\n>\\n>This is a new argument to me.  Could you elaborate a little?\\n>\\n \\nThe argument goes as follows: Q-oid quotes appear in John, but not in\\nthe almost codified way they were in Matthew or Luke. However, they are\\nconsidered to be similar enough to point to knowledge of Q as such, and\\nnot an entirely different source.\\n \\n \\n>>Assuming that he knew Luke would obviously put him after Luke, and would\\n>>give evidence for the latter assumption.\\n>\\n>I don\\'t think this follows.  If you take the most traditional attributions,\\n>then Luke might have known John, but John is an elder figure in either case.\\n>We\\'re talking spans of time here which are well within the range of\\n>lifetimes.\\n \\nWe are talking date of texts here, not the age of the authors. The usual\\nexplanation for the time order of Mark, Matthew and Luke does not consider\\ntheir respective ages. It says Matthew has read the text of Mark, and Luke\\nthat of Matthew (and probably that of Mark).\\n \\nAs it is assumed that John knew the content of Luke\\'s text. The evidence\\nfor that is not overwhelming, admittedly.\\n \\n \\n>>>(1)  Earlier manuscripts of John have been discovered.\\n>\\n>>Interesting, where and which? How are they dated? How old are they?\\n>\\n>Unfortunately, I haven\\'t got the info at hand.  It was (I think) in the late\\n>\\'70s or early \\'80s, and it was possibly as old as CE 200.\\n>\\n \\nWhen they are from about 200, why do they shed doubt on the order on\\nputting John after the rest of the three?\\n \\n \\n>>I don\\'t see your point, it is exactly what James Felder said.  They had no\\n>>first hand knowledge of the events, and it obvious that at least two of them\\n>>used older texts as the base of their account.  And even the association of\\n>>Luke to Paul or Mark to Peter are not generally accepted.\\n>\\n>Well, a genuine letter of Peter would be close enough, wouldn\\'t it?\\n>\\n \\nSure, an original together with Id card of sender and receiver would be\\nfine. So what\\'s that supposed to say? Am I missing something?\\n \\n \\n>And I don\\'t think a \"one step removed\" source is that bad.  If Luke and Mark\\n>and Matthew learned their stories directly from diciples, then I really\\n>cannot believe in the sort of \"big transformation from Jesus to gospel\" that\\n>some people posit.  In news reports, one generally gets no better\\n>information than this.\\n>\\n>And if John IS a diciple, then there\\'s nothing more to be said.\\n>\\n \\nThat John was a disciple is not generally accepted. The style and language\\ntogether with the theology are usually used as counterargument.\\n \\nThe argument that John was a disciple relies on the claim in the gospel\\nof John itself. Is there any other evidence for it?\\n \\nOne step and one generation removed is bad even in our times. Compare that\\nto reports of similar events in our century in almost illiterate societies.\\nNot even to speak off that believers are not necessarily the best sources.\\n \\n \\n>>It is also obvious that Mark has been edited. How old are the oldest\\n>>manuscripts? To my knowledge (which can be antiquated) the oldest is\\n>>quite after any of these estimates, and it is not even complete.\\n>\\n>The only clear \"editing\" is problem of the ending, and it\\'s basically a\\n>hopeless mess.  The oldest versions give a strong sense of incompleteness,\\n>to the point where the shortest versions seem to break off in midsentence.\\n>The most obvious solution is that at some point part of the text was lost.\\n>The material from verse 9 on is pretty clearly later and seems to represent\\n>a synopsys of the end of Luke.\\n>\\nIn other words, one does not know what the original of Mark did look like\\nand arguments based on Mark are pretty weak.\\n \\nBut how is that connected to a redating of John?\\n   Benedikt\\n'"
            ],
            "application/vnd.google.colaboratory.intrinsic+json": {
              "type": "string"
            }
          },
          "metadata": {},
          "execution_count": 4
        }
      ]
    },
    {
      "cell_type": "code",
      "source": [
        "blog.isna().sum()"
      ],
      "metadata": {
        "colab": {
          "base_uri": "https://localhost:8080/"
        },
        "id": "MHbYGJstCIwq",
        "outputId": "3d92801f-7769-4c39-aa36-df35e887e4b3"
      },
      "execution_count": 5,
      "outputs": [
        {
          "output_type": "execute_result",
          "data": {
            "text/plain": [
              "Unnamed: 0    0\n",
              "Data          0\n",
              "Labels        0\n",
              "dtype: int64"
            ]
          },
          "metadata": {},
          "execution_count": 5
        }
      ]
    },
    {
      "cell_type": "code",
      "source": [
        "blog1 = [x.strip() for x in blog.Data]  # remove both the leading and the trailing characters\n",
        "len(blog1)"
      ],
      "metadata": {
        "id": "f04iD6PMhc9K",
        "colab": {
          "base_uri": "https://localhost:8080/"
        },
        "outputId": "98e5c23b-fb35-48ae-c33f-8c73e2e9cf3e"
      },
      "execution_count": 6,
      "outputs": [
        {
          "output_type": "execute_result",
          "data": {
            "text/plain": [
              "19997"
            ]
          },
          "metadata": {},
          "execution_count": 6
        }
      ]
    },
    {
      "cell_type": "code",
      "source": [
        "blog1[3]"
      ],
      "metadata": {
        "id": "pfE_J5epknnW",
        "colab": {
          "base_uri": "https://localhost:8080/",
          "height": 162
        },
        "outputId": "496a79fe-b4db-4298-f221-d9c78e4e9774"
      },
      "execution_count": 7,
      "outputs": [
        {
          "output_type": "execute_result",
          "data": {
            "text/plain": [
              "'Xref: cantaloupe.srv.cs.cmu.edu alt.atheism:51120 alt.politics.usa.constitution:1934\\nPath: cantaloupe.srv.cs.cmu.edu!crabapple.srv.cs.cmu.edu!fs7.ece.cmu.edu!europa.eng.gtefsd.com!howland.reston.ans.net!wupost!uunet!pipex!ibmpcug!mantis!news\\nFrom: mathew <mathew@mantis.co.uk>\\nNewsgroups: alt.atheism,alt.politics.usa.constitution\\nSubject: Re: university violating separation of church/state?\\nMessage-ID: <930405.175842.5d8.rusnews.w165w@mantis.co.uk>\\nDate: Mon, 5 Apr 1993 17:58:42 GMT\\nReferences: <199304041750.AA17104@kepler.unh.edu>\\nOrganization: Mantis Consultants, Cambridge. UK.\\nX-Newsreader: rusnews v1.01\\nLines: 29\\n\\ndmn@kepler.unh.edu (...until kings become philosophers or philosophers become kings) writes:\\n>      Recently, RAs have been ordered (and none have resisted or cared about\\n> it apparently) to post a religious flyer entitled _The Soul Scroll: Thoughts\\n> on religion, spirituality, and matters of the soul_ on the inside of bathroom\\n> stall doors. (at my school, the University of New Hampshire) It is some sort\\n> of newsletter assembled by a Hall Director somewhere on campus. It poses a\\n> question about \\'spirituality\\' each issue, and solicits responses to be \\n> included in the next \\'issue.\\' It\\'s all pretty vague. I assume it\\'s put out\\n> by a Christian, but they\\'re very careful not to mention Jesus or the bible.\\n> I\\'ve heard someone defend it, saying \"Well it doesn\\'t support any one religion.\\n> \" So what??? This is a STATE university, and as a strong supporter of the\\n> separation of church and state, I was enraged.\\n> \\n>      What can I do about this?\\n\\nIt sounds to me like it\\'s just SCREAMING OUT for parody.  Give a copy to your\\nfriendly neighbourhood SubGenius preacher; with luck, he\\'ll run it through the\\nmental mincer and hand you back an outrageously offensive and gut-bustingly\\nfunny parody you can paste over the originals.\\n\\nI can see it now:\\n\\n                               The Stool Scroll\\n         Thoughts on Religion, Spirituality, and Matters of the Colon\\n\\n                       (You can use this text to wipe)\\n\\n\\nmathew'"
            ],
            "application/vnd.google.colaboratory.intrinsic+json": {
              "type": "string"
            }
          },
          "metadata": {},
          "execution_count": 7
        }
      ]
    },
    {
      "cell_type": "code",
      "source": [
        "blog2 = [x for x in blog1 if x] # removes empty strings, because they are considered in Python as False\n",
        "blog2[3]"
      ],
      "metadata": {
        "colab": {
          "base_uri": "https://localhost:8080/",
          "height": 162
        },
        "id": "AL7o7SZGKIR2",
        "outputId": "f19e2b02-b363-467a-e905-ffeee210a521"
      },
      "execution_count": 8,
      "outputs": [
        {
          "output_type": "execute_result",
          "data": {
            "text/plain": [
              "'Xref: cantaloupe.srv.cs.cmu.edu alt.atheism:51120 alt.politics.usa.constitution:1934\\nPath: cantaloupe.srv.cs.cmu.edu!crabapple.srv.cs.cmu.edu!fs7.ece.cmu.edu!europa.eng.gtefsd.com!howland.reston.ans.net!wupost!uunet!pipex!ibmpcug!mantis!news\\nFrom: mathew <mathew@mantis.co.uk>\\nNewsgroups: alt.atheism,alt.politics.usa.constitution\\nSubject: Re: university violating separation of church/state?\\nMessage-ID: <930405.175842.5d8.rusnews.w165w@mantis.co.uk>\\nDate: Mon, 5 Apr 1993 17:58:42 GMT\\nReferences: <199304041750.AA17104@kepler.unh.edu>\\nOrganization: Mantis Consultants, Cambridge. UK.\\nX-Newsreader: rusnews v1.01\\nLines: 29\\n\\ndmn@kepler.unh.edu (...until kings become philosophers or philosophers become kings) writes:\\n>      Recently, RAs have been ordered (and none have resisted or cared about\\n> it apparently) to post a religious flyer entitled _The Soul Scroll: Thoughts\\n> on religion, spirituality, and matters of the soul_ on the inside of bathroom\\n> stall doors. (at my school, the University of New Hampshire) It is some sort\\n> of newsletter assembled by a Hall Director somewhere on campus. It poses a\\n> question about \\'spirituality\\' each issue, and solicits responses to be \\n> included in the next \\'issue.\\' It\\'s all pretty vague. I assume it\\'s put out\\n> by a Christian, but they\\'re very careful not to mention Jesus or the bible.\\n> I\\'ve heard someone defend it, saying \"Well it doesn\\'t support any one religion.\\n> \" So what??? This is a STATE university, and as a strong supporter of the\\n> separation of church and state, I was enraged.\\n> \\n>      What can I do about this?\\n\\nIt sounds to me like it\\'s just SCREAMING OUT for parody.  Give a copy to your\\nfriendly neighbourhood SubGenius preacher; with luck, he\\'ll run it through the\\nmental mincer and hand you back an outrageously offensive and gut-bustingly\\nfunny parody you can paste over the originals.\\n\\nI can see it now:\\n\\n                               The Stool Scroll\\n         Thoughts on Religion, Spirituality, and Matters of the Colon\\n\\n                       (You can use this text to wipe)\\n\\n\\nmathew'"
            ],
            "application/vnd.google.colaboratory.intrinsic+json": {
              "type": "string"
            }
          },
          "metadata": {},
          "execution_count": 8
        }
      ]
    },
    {
      "cell_type": "code",
      "source": [
        "len(blog2)"
      ],
      "metadata": {
        "colab": {
          "base_uri": "https://localhost:8080/"
        },
        "id": "VoAZFp8mKuFN",
        "outputId": "bd19b7bc-0e00-426e-bde9-767a44554f28"
      },
      "execution_count": 9,
      "outputs": [
        {
          "output_type": "execute_result",
          "data": {
            "text/plain": [
              "19997"
            ]
          },
          "metadata": {},
          "execution_count": 9
        }
      ]
    },
    {
      "cell_type": "code",
      "source": [
        "##Part Of Speech Tagging\n",
        "import spacy\n",
        "nlp = spacy.load('en_core_web_sm')\n",
        "\n",
        "one_block = blog.Data[3]\n",
        "doc_block = nlp(one_block)\n",
        "spacy.displacy.render(doc_block, style='ent', jupyter=True)"
      ],
      "metadata": {
        "colab": {
          "base_uri": "https://localhost:8080/",
          "height": 1000
        },
        "id": "Hu6nBf90_Vfr",
        "outputId": "6f27bab1-26a1-48cb-cde8-b19a8a41ed5f"
      },
      "execution_count": 10,
      "outputs": [
        {
          "output_type": "display_data",
          "data": {
            "text/plain": [
              "<IPython.core.display.HTML object>"
            ],
            "text/html": [
              "<span class=\"tex2jax_ignore\"><div class=\"entities\" style=\"line-height: 2.5; direction: ltr\">Xref: \n",
              "<mark class=\"entity\" style=\"background: #e4e7d2; padding: 0.45em 0.6em; margin: 0 0.25em; line-height: 1; border-radius: 0.35em;\">\n",
              "    cantaloupe.srv.cs.cmu.edu\n",
              "    <span style=\"font-size: 0.8em; font-weight: bold; line-height: 1; border-radius: 0.35em; vertical-align: middle; margin-left: 0.5rem\">CARDINAL</span>\n",
              "</mark>\n",
              " alt.atheism:51120 alt.politics.usa.constitution:1934<br>Path: cantaloupe.srv.cs.cmu.edu!crabapple.srv.cs.cmu.edu!fs7.ece.cmu.edu!europa.eng.gtefsd.com!howland.reston.ans.net!wupost!uunet!pipex!ibmpcug!mantis!news<br>From: mathew &lt;mathew@mantis.co.uk&gt;<br>\n",
              "<mark class=\"entity\" style=\"background: #aa9cfc; padding: 0.45em 0.6em; margin: 0 0.25em; line-height: 1; border-radius: 0.35em;\">\n",
              "    Newsgroups\n",
              "    <span style=\"font-size: 0.8em; font-weight: bold; line-height: 1; border-radius: 0.35em; vertical-align: middle; margin-left: 0.5rem\">PERSON</span>\n",
              "</mark>\n",
              ": alt.atheism,alt.politics.usa.constitution<br>Subject: Re: university violating separation of church/state?<br>Message-ID: &lt;930405.175842.5d8.rusnews.w165w@mantis.co.uk&gt;<br>Date: Mon, \n",
              "<mark class=\"entity\" style=\"background: #bfe1d9; padding: 0.45em 0.6em; margin: 0 0.25em; line-height: 1; border-radius: 0.35em;\">\n",
              "    5 Apr 1993\n",
              "    <span style=\"font-size: 0.8em; font-weight: bold; line-height: 1; border-radius: 0.35em; vertical-align: middle; margin-left: 0.5rem\">DATE</span>\n",
              "</mark>\n",
              " 17:58:42 \n",
              "<mark class=\"entity\" style=\"background: #7aecec; padding: 0.45em 0.6em; margin: 0 0.25em; line-height: 1; border-radius: 0.35em;\">\n",
              "    GMT\n",
              "    <span style=\"font-size: 0.8em; font-weight: bold; line-height: 1; border-radius: 0.35em; vertical-align: middle; margin-left: 0.5rem\">ORG</span>\n",
              "</mark>\n",
              "<br>References: &lt;199304041750.AA17104@kepler.unh.edu&gt;<br>Organization: Mantis Consultants, \n",
              "<mark class=\"entity\" style=\"background: #feca74; padding: 0.45em 0.6em; margin: 0 0.25em; line-height: 1; border-radius: 0.35em;\">\n",
              "    Cambridge\n",
              "    <span style=\"font-size: 0.8em; font-weight: bold; line-height: 1; border-radius: 0.35em; vertical-align: middle; margin-left: 0.5rem\">GPE</span>\n",
              "</mark>\n",
              ". \n",
              "<mark class=\"entity\" style=\"background: #feca74; padding: 0.45em 0.6em; margin: 0 0.25em; line-height: 1; border-radius: 0.35em;\">\n",
              "    UK\n",
              "    <span style=\"font-size: 0.8em; font-weight: bold; line-height: 1; border-radius: 0.35em; vertical-align: middle; margin-left: 0.5rem\">GPE</span>\n",
              "</mark>\n",
              ".<br>X-Newsreader: rusnews v1.01<br>Lines: \n",
              "<mark class=\"entity\" style=\"background: #e4e7d2; padding: 0.45em 0.6em; margin: 0 0.25em; line-height: 1; border-radius: 0.35em;\">\n",
              "    29\n",
              "    <span style=\"font-size: 0.8em; font-weight: bold; line-height: 1; border-radius: 0.35em; vertical-align: middle; margin-left: 0.5rem\">CARDINAL</span>\n",
              "</mark>\n",
              "<br><br>\n",
              "<mark class=\"entity\" style=\"background: #aa9cfc; padding: 0.45em 0.6em; margin: 0 0.25em; line-height: 1; border-radius: 0.35em;\">\n",
              "    dmn@kepler.unh.edu\n",
              "    <span style=\"font-size: 0.8em; font-weight: bold; line-height: 1; border-radius: 0.35em; vertical-align: middle; margin-left: 0.5rem\">PERSON</span>\n",
              "</mark>\n",
              " (...until kings become philosophers or philosophers become kings) writes:<br>&gt;      Recently, RAs have been ordered (and none have resisted or cared about<br>&gt; it apparently) to post a religious flyer entitled _\n",
              "<mark class=\"entity\" style=\"background: #f0d0ff; padding: 0.45em 0.6em; margin: 0 0.25em; line-height: 1; border-radius: 0.35em;\">\n",
              "    The Soul Scroll\n",
              "    <span style=\"font-size: 0.8em; font-weight: bold; line-height: 1; border-radius: 0.35em; vertical-align: middle; margin-left: 0.5rem\">WORK_OF_ART</span>\n",
              "</mark>\n",
              ": Thoughts<br>&gt; on religion, spirituality, and matters of the soul_ on the inside of bathroom<br>&gt; stall doors. (at my school, \n",
              "<mark class=\"entity\" style=\"background: #7aecec; padding: 0.45em 0.6em; margin: 0 0.25em; line-height: 1; border-radius: 0.35em;\">\n",
              "    the University of New Hampshire\n",
              "    <span style=\"font-size: 0.8em; font-weight: bold; line-height: 1; border-radius: 0.35em; vertical-align: middle; margin-left: 0.5rem\">ORG</span>\n",
              "</mark>\n",
              ") It is some sort<br>&gt; of newsletter assembled by a Hall Director somewhere on campus. It poses a<br>&gt; question about 'spirituality' each issue, and solicits responses to be <br>&gt; included in the next 'issue.' It's all pretty vague. I assume it's put out<br>&gt; by a \n",
              "<mark class=\"entity\" style=\"background: #c887fb; padding: 0.45em 0.6em; margin: 0 0.25em; line-height: 1; border-radius: 0.35em;\">\n",
              "    Christian\n",
              "    <span style=\"font-size: 0.8em; font-weight: bold; line-height: 1; border-radius: 0.35em; vertical-align: middle; margin-left: 0.5rem\">NORP</span>\n",
              "</mark>\n",
              ", but they're very careful not to mention \n",
              "<mark class=\"entity\" style=\"background: #aa9cfc; padding: 0.45em 0.6em; margin: 0 0.25em; line-height: 1; border-radius: 0.35em;\">\n",
              "    Jesus\n",
              "    <span style=\"font-size: 0.8em; font-weight: bold; line-height: 1; border-radius: 0.35em; vertical-align: middle; margin-left: 0.5rem\">PERSON</span>\n",
              "</mark>\n",
              " or the bible.<br>&gt; I've heard someone defend it, saying &quot;Well it doesn't support any \n",
              "<mark class=\"entity\" style=\"background: #e4e7d2; padding: 0.45em 0.6em; margin: 0 0.25em; line-height: 1; border-radius: 0.35em;\">\n",
              "    one\n",
              "    <span style=\"font-size: 0.8em; font-weight: bold; line-height: 1; border-radius: 0.35em; vertical-align: middle; margin-left: 0.5rem\">CARDINAL</span>\n",
              "</mark>\n",
              " religion.<br>&gt; &quot; So what??? This is a STATE university, and as a strong supporter of the<br>&gt; separation of church and state, I was enraged.<br>&gt; <br>&gt;      What can I do about this?<br><br>It sounds to me like it's just SCREAMING OUT for parody.  Give a copy to your<br>friendly neighbourhood \n",
              "<mark class=\"entity\" style=\"background: #7aecec; padding: 0.45em 0.6em; margin: 0 0.25em; line-height: 1; border-radius: 0.35em;\">\n",
              "    SubGenius\n",
              "    <span style=\"font-size: 0.8em; font-weight: bold; line-height: 1; border-radius: 0.35em; vertical-align: middle; margin-left: 0.5rem\">ORG</span>\n",
              "</mark>\n",
              " preacher; with luck, he'll run it through the<br>mental mincer and hand you back an outrageously offensive and gut-bustingly<br>funny parody you can paste over the originals.<br><br>I can see it now:<br><br>                               \n",
              "<mark class=\"entity\" style=\"background: #7aecec; padding: 0.45em 0.6em; margin: 0 0.25em; line-height: 1; border-radius: 0.35em;\">\n",
              "    The Stool Scroll\n",
              "         Thoughts on Religion, Spirituality\n",
              "    <span style=\"font-size: 0.8em; font-weight: bold; line-height: 1; border-radius: 0.35em; vertical-align: middle; margin-left: 0.5rem\">ORG</span>\n",
              "</mark>\n",
              ", and \n",
              "<mark class=\"entity\" style=\"background: #7aecec; padding: 0.45em 0.6em; margin: 0 0.25em; line-height: 1; border-radius: 0.35em;\">\n",
              "    Matters of the Colon\n",
              "\n",
              "                       (\n",
              "    <span style=\"font-size: 0.8em; font-weight: bold; line-height: 1; border-radius: 0.35em; vertical-align: middle; margin-left: 0.5rem\">ORG</span>\n",
              "</mark>\n",
              "You can use this text to wipe)<br><br><br>\n",
              "<mark class=\"entity\" style=\"background: #aa9cfc; padding: 0.45em 0.6em; margin: 0 0.25em; line-height: 1; border-radius: 0.35em;\">\n",
              "    mathew\n",
              "\n",
              "    <span style=\"font-size: 0.8em; font-weight: bold; line-height: 1; border-radius: 0.35em; vertical-align: middle; margin-left: 0.5rem\">PERSON</span>\n",
              "</mark>\n",
              "</div></span>"
            ]
          },
          "metadata": {}
        }
      ]
    },
    {
      "cell_type": "code",
      "source": [
        "for token in doc_block[200:220]:\n",
        "    print(token, token.pos_)"
      ],
      "metadata": {
        "colab": {
          "base_uri": "https://localhost:8080/"
        },
        "id": "gOjppVzg_jXa",
        "outputId": "b72e2183-c913-461e-95f1-3e46481804df"
      },
      "execution_count": 11,
      "outputs": [
        {
          "output_type": "stream",
          "name": "stdout",
          "text": [
            "included VERB\n",
            "in ADP\n",
            "the DET\n",
            "next ADJ\n",
            "' PUNCT\n",
            "issue NOUN\n",
            ". PUNCT\n",
            "' PUNCT\n",
            "It PRON\n",
            "'s AUX\n",
            "all PRON\n",
            "pretty ADV\n",
            "vague ADJ\n",
            ". PUNCT\n",
            "I PRON\n",
            "assume VERB\n",
            "it PRON\n",
            "'s AUX\n",
            "put VERB\n",
            "out ADP\n"
          ]
        }
      ]
    },
    {
      "cell_type": "code",
      "source": [
        "#Filtering for nouns and verbs only\n",
        "nouns_verbs = [token.text for token in doc_block if token.pos_ in ('NOUN', 'VERB')]\n",
        "print(nouns_verbs[20:30])"
      ],
      "metadata": {
        "colab": {
          "base_uri": "https://localhost:8080/"
        },
        "id": "m4pPAQg6ABcR",
        "outputId": "70715d10-c73e-4ccb-b231-b0824bc140de"
      },
      "execution_count": 12,
      "outputs": [
        {
          "output_type": "stream",
          "name": "stdout",
          "text": [
            "['kings', 'writes', 'RAs', 'ordered', 'none', 'resisted', 'cared', 'post', 'flyer', 'entitled']\n"
          ]
        }
      ]
    },
    {
      "cell_type": "code",
      "source": [
        "#Counting tokens again\n",
        "from sklearn.feature_extraction.text import CountVectorizer\n",
        "cv = CountVectorizer()\n",
        "X = cv.fit_transform(nouns_verbs)\n",
        "sum_words = X.sum(axis=0)\n",
        "words_freq = [(word, sum_words[0, idx]) for word, idx in cv.vocabulary_.items()]\n",
        "words_freq =sorted(words_freq, key = lambda x: x[1], reverse=True)\n",
        "wf_df = pd.DataFrame(words_freq)\n",
        "wf_df.columns = ['word', 'count']\n",
        "wf_df[0:10]"
      ],
      "metadata": {
        "colab": {
          "base_uri": "https://localhost:8080/",
          "height": 362
        },
        "id": "BbgFZ3m1AtVJ",
        "outputId": "470f9894-0508-4c39-8d7a-5b524fca8896"
      },
      "execution_count": 13,
      "outputs": [
        {
          "output_type": "execute_result",
          "data": {
            "text/plain": [
              "         word  count\n",
              "0         cmu      3\n",
              "1         edu      3\n",
              "2         srv      2\n",
              "3          cs      2\n",
              "4      mantis      2\n",
              "5      mathew      2\n",
              "6         alt      2\n",
              "7  university      2\n",
              "8  separation      2\n",
              "9       state      2"
            ],
            "text/html": [
              "\n",
              "  <div id=\"df-8b585dd8-a137-4c01-9151-8e42b241876e\" class=\"colab-df-container\">\n",
              "    <div>\n",
              "<style scoped>\n",
              "    .dataframe tbody tr th:only-of-type {\n",
              "        vertical-align: middle;\n",
              "    }\n",
              "\n",
              "    .dataframe tbody tr th {\n",
              "        vertical-align: top;\n",
              "    }\n",
              "\n",
              "    .dataframe thead th {\n",
              "        text-align: right;\n",
              "    }\n",
              "</style>\n",
              "<table border=\"1\" class=\"dataframe\">\n",
              "  <thead>\n",
              "    <tr style=\"text-align: right;\">\n",
              "      <th></th>\n",
              "      <th>word</th>\n",
              "      <th>count</th>\n",
              "    </tr>\n",
              "  </thead>\n",
              "  <tbody>\n",
              "    <tr>\n",
              "      <th>0</th>\n",
              "      <td>cmu</td>\n",
              "      <td>3</td>\n",
              "    </tr>\n",
              "    <tr>\n",
              "      <th>1</th>\n",
              "      <td>edu</td>\n",
              "      <td>3</td>\n",
              "    </tr>\n",
              "    <tr>\n",
              "      <th>2</th>\n",
              "      <td>srv</td>\n",
              "      <td>2</td>\n",
              "    </tr>\n",
              "    <tr>\n",
              "      <th>3</th>\n",
              "      <td>cs</td>\n",
              "      <td>2</td>\n",
              "    </tr>\n",
              "    <tr>\n",
              "      <th>4</th>\n",
              "      <td>mantis</td>\n",
              "      <td>2</td>\n",
              "    </tr>\n",
              "    <tr>\n",
              "      <th>5</th>\n",
              "      <td>mathew</td>\n",
              "      <td>2</td>\n",
              "    </tr>\n",
              "    <tr>\n",
              "      <th>6</th>\n",
              "      <td>alt</td>\n",
              "      <td>2</td>\n",
              "    </tr>\n",
              "    <tr>\n",
              "      <th>7</th>\n",
              "      <td>university</td>\n",
              "      <td>2</td>\n",
              "    </tr>\n",
              "    <tr>\n",
              "      <th>8</th>\n",
              "      <td>separation</td>\n",
              "      <td>2</td>\n",
              "    </tr>\n",
              "    <tr>\n",
              "      <th>9</th>\n",
              "      <td>state</td>\n",
              "      <td>2</td>\n",
              "    </tr>\n",
              "  </tbody>\n",
              "</table>\n",
              "</div>\n",
              "    <div class=\"colab-df-buttons\">\n",
              "\n",
              "  <div class=\"colab-df-container\">\n",
              "    <button class=\"colab-df-convert\" onclick=\"convertToInteractive('df-8b585dd8-a137-4c01-9151-8e42b241876e')\"\n",
              "            title=\"Convert this dataframe to an interactive table.\"\n",
              "            style=\"display:none;\">\n",
              "\n",
              "  <svg xmlns=\"http://www.w3.org/2000/svg\" height=\"24px\" viewBox=\"0 -960 960 960\">\n",
              "    <path d=\"M120-120v-720h720v720H120Zm60-500h600v-160H180v160Zm220 220h160v-160H400v160Zm0 220h160v-160H400v160ZM180-400h160v-160H180v160Zm440 0h160v-160H620v160ZM180-180h160v-160H180v160Zm440 0h160v-160H620v160Z\"/>\n",
              "  </svg>\n",
              "    </button>\n",
              "\n",
              "  <style>\n",
              "    .colab-df-container {\n",
              "      display:flex;\n",
              "      gap: 12px;\n",
              "    }\n",
              "\n",
              "    .colab-df-convert {\n",
              "      background-color: #E8F0FE;\n",
              "      border: none;\n",
              "      border-radius: 50%;\n",
              "      cursor: pointer;\n",
              "      display: none;\n",
              "      fill: #1967D2;\n",
              "      height: 32px;\n",
              "      padding: 0 0 0 0;\n",
              "      width: 32px;\n",
              "    }\n",
              "\n",
              "    .colab-df-convert:hover {\n",
              "      background-color: #E2EBFA;\n",
              "      box-shadow: 0px 1px 2px rgba(60, 64, 67, 0.3), 0px 1px 3px 1px rgba(60, 64, 67, 0.15);\n",
              "      fill: #174EA6;\n",
              "    }\n",
              "\n",
              "    .colab-df-buttons div {\n",
              "      margin-bottom: 4px;\n",
              "    }\n",
              "\n",
              "    [theme=dark] .colab-df-convert {\n",
              "      background-color: #3B4455;\n",
              "      fill: #D2E3FC;\n",
              "    }\n",
              "\n",
              "    [theme=dark] .colab-df-convert:hover {\n",
              "      background-color: #434B5C;\n",
              "      box-shadow: 0px 1px 3px 1px rgba(0, 0, 0, 0.15);\n",
              "      filter: drop-shadow(0px 1px 2px rgba(0, 0, 0, 0.3));\n",
              "      fill: #FFFFFF;\n",
              "    }\n",
              "  </style>\n",
              "\n",
              "    <script>\n",
              "      const buttonEl =\n",
              "        document.querySelector('#df-8b585dd8-a137-4c01-9151-8e42b241876e button.colab-df-convert');\n",
              "      buttonEl.style.display =\n",
              "        google.colab.kernel.accessAllowed ? 'block' : 'none';\n",
              "\n",
              "      async function convertToInteractive(key) {\n",
              "        const element = document.querySelector('#df-8b585dd8-a137-4c01-9151-8e42b241876e');\n",
              "        const dataTable =\n",
              "          await google.colab.kernel.invokeFunction('convertToInteractive',\n",
              "                                                    [key], {});\n",
              "        if (!dataTable) return;\n",
              "\n",
              "        const docLinkHtml = 'Like what you see? Visit the ' +\n",
              "          '<a target=\"_blank\" href=https://colab.research.google.com/notebooks/data_table.ipynb>data table notebook</a>'\n",
              "          + ' to learn more about interactive tables.';\n",
              "        element.innerHTML = '';\n",
              "        dataTable['output_type'] = 'display_data';\n",
              "        await google.colab.output.renderOutput(dataTable, element);\n",
              "        const docLink = document.createElement('div');\n",
              "        docLink.innerHTML = docLinkHtml;\n",
              "        element.appendChild(docLink);\n",
              "      }\n",
              "    </script>\n",
              "  </div>\n",
              "\n",
              "\n",
              "<div id=\"df-daf3f8e5-0621-4d51-b963-58cd6c8be03e\">\n",
              "  <button class=\"colab-df-quickchart\" onclick=\"quickchart('df-daf3f8e5-0621-4d51-b963-58cd6c8be03e')\"\n",
              "            title=\"Suggest charts\"\n",
              "            style=\"display:none;\">\n",
              "\n",
              "<svg xmlns=\"http://www.w3.org/2000/svg\" height=\"24px\"viewBox=\"0 0 24 24\"\n",
              "     width=\"24px\">\n",
              "    <g>\n",
              "        <path d=\"M19 3H5c-1.1 0-2 .9-2 2v14c0 1.1.9 2 2 2h14c1.1 0 2-.9 2-2V5c0-1.1-.9-2-2-2zM9 17H7v-7h2v7zm4 0h-2V7h2v10zm4 0h-2v-4h2v4z\"/>\n",
              "    </g>\n",
              "</svg>\n",
              "  </button>\n",
              "\n",
              "<style>\n",
              "  .colab-df-quickchart {\n",
              "      --bg-color: #E8F0FE;\n",
              "      --fill-color: #1967D2;\n",
              "      --hover-bg-color: #E2EBFA;\n",
              "      --hover-fill-color: #174EA6;\n",
              "      --disabled-fill-color: #AAA;\n",
              "      --disabled-bg-color: #DDD;\n",
              "  }\n",
              "\n",
              "  [theme=dark] .colab-df-quickchart {\n",
              "      --bg-color: #3B4455;\n",
              "      --fill-color: #D2E3FC;\n",
              "      --hover-bg-color: #434B5C;\n",
              "      --hover-fill-color: #FFFFFF;\n",
              "      --disabled-bg-color: #3B4455;\n",
              "      --disabled-fill-color: #666;\n",
              "  }\n",
              "\n",
              "  .colab-df-quickchart {\n",
              "    background-color: var(--bg-color);\n",
              "    border: none;\n",
              "    border-radius: 50%;\n",
              "    cursor: pointer;\n",
              "    display: none;\n",
              "    fill: var(--fill-color);\n",
              "    height: 32px;\n",
              "    padding: 0;\n",
              "    width: 32px;\n",
              "  }\n",
              "\n",
              "  .colab-df-quickchart:hover {\n",
              "    background-color: var(--hover-bg-color);\n",
              "    box-shadow: 0 1px 2px rgba(60, 64, 67, 0.3), 0 1px 3px 1px rgba(60, 64, 67, 0.15);\n",
              "    fill: var(--button-hover-fill-color);\n",
              "  }\n",
              "\n",
              "  .colab-df-quickchart-complete:disabled,\n",
              "  .colab-df-quickchart-complete:disabled:hover {\n",
              "    background-color: var(--disabled-bg-color);\n",
              "    fill: var(--disabled-fill-color);\n",
              "    box-shadow: none;\n",
              "  }\n",
              "\n",
              "  .colab-df-spinner {\n",
              "    border: 2px solid var(--fill-color);\n",
              "    border-color: transparent;\n",
              "    border-bottom-color: var(--fill-color);\n",
              "    animation:\n",
              "      spin 1s steps(1) infinite;\n",
              "  }\n",
              "\n",
              "  @keyframes spin {\n",
              "    0% {\n",
              "      border-color: transparent;\n",
              "      border-bottom-color: var(--fill-color);\n",
              "      border-left-color: var(--fill-color);\n",
              "    }\n",
              "    20% {\n",
              "      border-color: transparent;\n",
              "      border-left-color: var(--fill-color);\n",
              "      border-top-color: var(--fill-color);\n",
              "    }\n",
              "    30% {\n",
              "      border-color: transparent;\n",
              "      border-left-color: var(--fill-color);\n",
              "      border-top-color: var(--fill-color);\n",
              "      border-right-color: var(--fill-color);\n",
              "    }\n",
              "    40% {\n",
              "      border-color: transparent;\n",
              "      border-right-color: var(--fill-color);\n",
              "      border-top-color: var(--fill-color);\n",
              "    }\n",
              "    60% {\n",
              "      border-color: transparent;\n",
              "      border-right-color: var(--fill-color);\n",
              "    }\n",
              "    80% {\n",
              "      border-color: transparent;\n",
              "      border-right-color: var(--fill-color);\n",
              "      border-bottom-color: var(--fill-color);\n",
              "    }\n",
              "    90% {\n",
              "      border-color: transparent;\n",
              "      border-bottom-color: var(--fill-color);\n",
              "    }\n",
              "  }\n",
              "</style>\n",
              "\n",
              "  <script>\n",
              "    async function quickchart(key) {\n",
              "      const quickchartButtonEl =\n",
              "        document.querySelector('#' + key + ' button');\n",
              "      quickchartButtonEl.disabled = true;  // To prevent multiple clicks.\n",
              "      quickchartButtonEl.classList.add('colab-df-spinner');\n",
              "      try {\n",
              "        const charts = await google.colab.kernel.invokeFunction(\n",
              "            'suggestCharts', [key], {});\n",
              "      } catch (error) {\n",
              "        console.error('Error during call to suggestCharts:', error);\n",
              "      }\n",
              "      quickchartButtonEl.classList.remove('colab-df-spinner');\n",
              "      quickchartButtonEl.classList.add('colab-df-quickchart-complete');\n",
              "    }\n",
              "    (() => {\n",
              "      let quickchartButtonEl =\n",
              "        document.querySelector('#df-daf3f8e5-0621-4d51-b963-58cd6c8be03e button');\n",
              "      quickchartButtonEl.style.display =\n",
              "        google.colab.kernel.accessAllowed ? 'block' : 'none';\n",
              "    })();\n",
              "  </script>\n",
              "</div>\n",
              "\n",
              "    </div>\n",
              "  </div>\n"
            ],
            "application/vnd.google.colaboratory.intrinsic+json": {
              "type": "dataframe",
              "summary": "{\n  \"name\": \"wf_df[0:10]\",\n  \"rows\": 10,\n  \"fields\": [\n    {\n      \"column\": \"word\",\n      \"properties\": {\n        \"dtype\": \"string\",\n        \"num_unique_values\": 10,\n        \"samples\": [\n          \"separation\",\n          \"edu\",\n          \"mathew\"\n        ],\n        \"semantic_type\": \"\",\n        \"description\": \"\"\n      }\n    },\n    {\n      \"column\": \"count\",\n      \"properties\": {\n        \"dtype\": \"number\",\n        \"std\": 0,\n        \"min\": 2,\n        \"max\": 3,\n        \"num_unique_values\": 2,\n        \"samples\": [\n          2,\n          3\n        ],\n        \"semantic_type\": \"\",\n        \"description\": \"\"\n      }\n    }\n  ]\n}"
            }
          },
          "metadata": {},
          "execution_count": 13
        }
      ]
    },
    {
      "cell_type": "code",
      "source": [
        "!pip install NRCLex"
      ],
      "metadata": {
        "id": "typuC1eBYuPl"
      },
      "execution_count": null,
      "outputs": []
    },
    {
      "cell_type": "code",
      "source": [
        "from nrclex import NRCLex"
      ],
      "metadata": {
        "id": "LteQ1cE6YkAz"
      },
      "execution_count": 40,
      "outputs": []
    },
    {
      "cell_type": "code",
      "source": [
        "s=NRCLex(blog.Data[3])\n",
        "s.affect_dict"
      ],
      "metadata": {
        "colab": {
          "base_uri": "https://localhost:8080/"
        },
        "id": "s-Qk_wuVZGwb",
        "outputId": "18387f52-b407-4de8-9832-c5aa6c8c1167"
      },
      "execution_count": 42,
      "outputs": [
        {
          "output_type": "execute_result",
          "data": {
            "text/plain": [
              "{'university': ['anticipation', 'positive'],\n",
              " 'religion': ['trust'],\n",
              " 'stall': ['disgust'],\n",
              " 'school': ['trust'],\n",
              " 'question': ['positive'],\n",
              " 'included': ['positive'],\n",
              " 'pretty': ['anticipation', 'joy', 'positive', 'trust'],\n",
              " 'vague': ['negative'],\n",
              " 'careful': ['positive'],\n",
              " 'defend': ['fear', 'positive'],\n",
              " 'supporter': ['joy', 'positive', 'trust'],\n",
              " 'church': ['anticipation', 'joy', 'positive', 'trust'],\n",
              " 'copy': ['negative'],\n",
              " 'friendly': ['anticipation', 'joy', 'positive', 'trust'],\n",
              " 'luck': ['anticipation', 'joy', 'positive', 'surprise'],\n",
              " 'offensive': ['anger', 'disgust', 'negative']}"
            ]
          },
          "metadata": {},
          "execution_count": 42
        }
      ]
    },
    {
      "cell_type": "code",
      "source": [
        "s.affect_frequencies"
      ],
      "metadata": {
        "colab": {
          "base_uri": "https://localhost:8080/"
        },
        "id": "Qa1VcKbhZfoi",
        "outputId": "b96ce8cf-6c06-44ed-b59a-06b4c7adaedf"
      },
      "execution_count": 43,
      "outputs": [
        {
          "output_type": "execute_result",
          "data": {
            "text/plain": [
              "{'fear': 0.02702702702702703,\n",
              " 'anger': 0.02702702702702703,\n",
              " 'anticip': 0.0,\n",
              " 'trust': 0.1891891891891892,\n",
              " 'surprise': 0.02702702702702703,\n",
              " 'positive': 0.2972972972972973,\n",
              " 'negative': 0.08108108108108109,\n",
              " 'sadness': 0.0,\n",
              " 'disgust': 0.05405405405405406,\n",
              " 'joy': 0.13513513513513514,\n",
              " 'anticipation': 0.16216216216216217}"
            ]
          },
          "metadata": {},
          "execution_count": 43
        }
      ]
    },
    {
      "cell_type": "code",
      "source": [
        "import nltk\n",
        "nltk.download('stopwords')"
      ],
      "metadata": {
        "colab": {
          "base_uri": "https://localhost:8080/"
        },
        "id": "ADPwKhRpNga8",
        "outputId": "c8e72c5d-98c6-4505-e6c0-bc61ba40edeb"
      },
      "execution_count": 15,
      "outputs": [
        {
          "output_type": "stream",
          "name": "stderr",
          "text": [
            "[nltk_data] Downloading package stopwords to /root/nltk_data...\n",
            "[nltk_data]   Package stopwords is already up-to-date!\n"
          ]
        },
        {
          "output_type": "execute_result",
          "data": {
            "text/plain": [
              "True"
            ]
          },
          "metadata": {},
          "execution_count": 15
        }
      ]
    },
    {
      "cell_type": "code",
      "source": [
        "import nltk\n",
        "nltk.download('punkt')"
      ],
      "metadata": {
        "colab": {
          "base_uri": "https://localhost:8080/"
        },
        "id": "VE1ckLPSOKD8",
        "outputId": "4ad26084-3683-42b1-ba09-91b3eea72d88"
      },
      "execution_count": 16,
      "outputs": [
        {
          "output_type": "stream",
          "name": "stderr",
          "text": [
            "[nltk_data] Downloading package punkt to /root/nltk_data...\n",
            "[nltk_data]   Package punkt is already up-to-date!\n"
          ]
        },
        {
          "output_type": "execute_result",
          "data": {
            "text/plain": [
              "True"
            ]
          },
          "metadata": {},
          "execution_count": 16
        }
      ]
    },
    {
      "cell_type": "code",
      "source": [
        "import nltk\n",
        "nltk.download('wordnet')"
      ],
      "metadata": {
        "colab": {
          "base_uri": "https://localhost:8080/"
        },
        "id": "88ccWXSxOzzY",
        "outputId": "ca473aee-87e6-41f3-cdd8-d2cebc50a62f"
      },
      "execution_count": 17,
      "outputs": [
        {
          "output_type": "stream",
          "name": "stderr",
          "text": [
            "[nltk_data] Downloading package wordnet to /root/nltk_data...\n",
            "[nltk_data]   Package wordnet is already up-to-date!\n"
          ]
        },
        {
          "output_type": "execute_result",
          "data": {
            "text/plain": [
              "True"
            ]
          },
          "metadata": {},
          "execution_count": 17
        }
      ]
    },
    {
      "cell_type": "code",
      "source": [
        "stop_words = set(stopwords.words('english'))\n",
        "lemmatizer = WordNetLemmatizer()\n",
        "\n",
        "def preprocess_text(text):\n",
        "    text = text.lower()\n",
        "    text = re.sub(r'[^\\w\\s]', '', text)\n",
        "    tokens = word_tokenize(text)\n",
        "    tokens = [lemmatizer.lemmatize(token) for token in tokens if token not in stop_words]\n",
        "    processed_text = ' '.join(tokens)\n",
        "    return processed_text"
      ],
      "metadata": {
        "id": "HcvpJ3snNKnL"
      },
      "execution_count": 18,
      "outputs": []
    },
    {
      "cell_type": "code",
      "source": [
        "blog['Cleaned_Text'] = blog['Data'].apply(preprocess_text)"
      ],
      "metadata": {
        "id": "u5zqu3bDNmH9"
      },
      "execution_count": 19,
      "outputs": []
    },
    {
      "cell_type": "code",
      "source": [
        "blog.Cleaned_Text[3]"
      ],
      "metadata": {
        "colab": {
          "base_uri": "https://localhost:8080/",
          "height": 162
        },
        "id": "PaxODX8LPHqz",
        "outputId": "76885f5e-d299-45c8-c901-b0eb686ab33c"
      },
      "execution_count": 20,
      "outputs": [
        {
          "output_type": "execute_result",
          "data": {
            "text/plain": [
              "'xref cantaloupesrvcscmuedu altatheism51120 altpoliticsusaconstitution1934 path cantaloupesrvcscmueducrabapplesrvcscmuedufs7ececmuedueuropaenggtefsdcomhowlandrestonansnetwupostuunetpipexibmpcugmantisnews mathew mathewmantiscouk newsgroups altatheismaltpoliticsusaconstitution subject university violating separation churchstate messageid 9304051758425d8rusnewsw165wmantiscouk date mon 5 apr 1993 175842 gmt reference 199304041750aa17104keplerunhedu organization mantis consultant cambridge uk xnewsreader rusnews v101 line 29 dmnkeplerunhedu king become philosopher philosopher become king writes recently ra ordered none resisted cared apparently post religious flyer entitled _the soul scroll thought religion spirituality matter soul_ inside bathroom stall door school university new hampshire sort newsletter assembled hall director somewhere campus pose question spirituality issue solicits response included next issue pretty vague assume put christian theyre careful mention jesus bible ive heard someone defend saying well doesnt support one religion state university strong supporter separation church state enraged sound like screaming parody give copy friendly neighbourhood subgenius preacher luck hell run mental mincer hand back outrageously offensive gutbustingly funny parody paste original see stool scroll thought religion spirituality matter colon use text wipe mathew'"
            ],
            "application/vnd.google.colaboratory.intrinsic+json": {
              "type": "string"
            }
          },
          "metadata": {},
          "execution_count": 20
        }
      ]
    },
    {
      "cell_type": "code",
      "source": [
        "vectorizer = TfidfVectorizer()\n",
        "X = vectorizer.fit_transform(blog['Cleaned_Text'])\n",
        "y = blog['Labels']"
      ],
      "metadata": {
        "id": "KTyGMsJVMT9F"
      },
      "execution_count": 21,
      "outputs": []
    },
    {
      "cell_type": "markdown",
      "source": [
        "## Naive Bayes Model for Text Classification"
      ],
      "metadata": {
        "id": "BDIXsfVe8zYu"
      }
    },
    {
      "cell_type": "code",
      "source": [
        "X_train, X_test, y_train, y_test = train_test_split(X, y, test_size=0.2, random_state=42)\n"
      ],
      "metadata": {
        "id": "1dFuH3mqR6sh"
      },
      "execution_count": 22,
      "outputs": []
    },
    {
      "cell_type": "code",
      "source": [
        "nb_classifier = MultinomialNB()\n",
        "nb_classifier.fit(X_train, y_train)\n",
        "\n",
        "y_pred = nb_classifier.predict(X_test)\n",
        "y_pred"
      ],
      "metadata": {
        "colab": {
          "base_uri": "https://localhost:8080/"
        },
        "id": "j5jRrpBqSEn5",
        "outputId": "c6e9397a-25c1-42f8-f918-eb870c44f06d"
      },
      "execution_count": 23,
      "outputs": [
        {
          "output_type": "execute_result",
          "data": {
            "text/plain": [
              "array(['rec.sport.hockey', 'comp.sys.mac.hardware',\n",
              "       'comp.sys.ibm.pc.hardware', ..., 'rec.motorcycles',\n",
              "       'talk.politics.guns', 'comp.windows.x'], dtype='<U24')"
            ]
          },
          "metadata": {},
          "execution_count": 23
        }
      ]
    },
    {
      "cell_type": "code",
      "source": [
        "accuracy = accuracy_score(y_test, y_pred)\n",
        "accuracy"
      ],
      "metadata": {
        "colab": {
          "base_uri": "https://localhost:8080/"
        },
        "id": "bBU86sQaU3YX",
        "outputId": "7c0a18ca-9b5c-4040-cf2b-618f63ddc0b0"
      },
      "execution_count": 24,
      "outputs": [
        {
          "output_type": "execute_result",
          "data": {
            "text/plain": [
              "0.894"
            ]
          },
          "metadata": {},
          "execution_count": 24
        }
      ]
    },
    {
      "cell_type": "code",
      "source": [
        "print(classification_report(y_test, y_pred))"
      ],
      "metadata": {
        "id": "K9r8Mo-QVFX4",
        "colab": {
          "base_uri": "https://localhost:8080/"
        },
        "outputId": "5dcf2d07-9b01-420e-fd77-5aff308d0c2f"
      },
      "execution_count": 25,
      "outputs": [
        {
          "output_type": "stream",
          "name": "stdout",
          "text": [
            "                          precision    recall  f1-score   support\n",
            "\n",
            "             alt.atheism       0.72      0.79      0.76       173\n",
            "           comp.graphics       0.87      0.91      0.89       179\n",
            " comp.os.ms-windows.misc       0.94      0.87      0.90       226\n",
            "comp.sys.ibm.pc.hardware       0.84      0.84      0.84       204\n",
            "   comp.sys.mac.hardware       0.89      0.96      0.92       205\n",
            "          comp.windows.x       0.97      0.94      0.95       186\n",
            "            misc.forsale       0.90      0.77      0.83       190\n",
            "               rec.autos       0.90      0.94      0.92       203\n",
            "         rec.motorcycles       1.00      0.96      0.98       218\n",
            "      rec.sport.baseball       0.99      0.98      0.99       192\n",
            "        rec.sport.hockey       0.98      0.99      0.98       203\n",
            "               sci.crypt       0.88      0.98      0.93       200\n",
            "         sci.electronics       0.93      0.89      0.91       227\n",
            "                 sci.med       1.00      0.94      0.97       196\n",
            "               sci.space       0.97      0.97      0.97       205\n",
            "  soc.religion.christian       0.89      1.00      0.94       215\n",
            "      talk.politics.guns       0.85      0.91      0.88       205\n",
            "   talk.politics.mideast       0.92      0.94      0.93       197\n",
            "      talk.politics.misc       0.75      0.76      0.76       200\n",
            "      talk.religion.misc       0.60      0.47      0.53       176\n",
            "\n",
            "                accuracy                           0.89      4000\n",
            "               macro avg       0.89      0.89      0.89      4000\n",
            "            weighted avg       0.89      0.89      0.89      4000\n",
            "\n"
          ]
        }
      ]
    },
    {
      "cell_type": "markdown",
      "source": [
        "## Sentiment Analysis"
      ],
      "metadata": {
        "id": "IW3fRYPJ93rk"
      }
    },
    {
      "cell_type": "code",
      "source": [
        "from nltk.sentiment.vader import SentimentIntensityAnalyzer"
      ],
      "metadata": {
        "id": "b7ZIcAES96zv"
      },
      "execution_count": 26,
      "outputs": []
    },
    {
      "cell_type": "code",
      "source": [
        "import nltk\n",
        "nltk.download('vader_lexicon')"
      ],
      "metadata": {
        "colab": {
          "base_uri": "https://localhost:8080/"
        },
        "id": "dTOc1FofBkNj",
        "outputId": "a84368d8-bdda-4d02-a505-3e8f7a50d128"
      },
      "execution_count": 27,
      "outputs": [
        {
          "output_type": "stream",
          "name": "stderr",
          "text": [
            "[nltk_data] Downloading package vader_lexicon to /root/nltk_data...\n",
            "[nltk_data]   Package vader_lexicon is already up-to-date!\n"
          ]
        },
        {
          "output_type": "execute_result",
          "data": {
            "text/plain": [
              "True"
            ]
          },
          "metadata": {},
          "execution_count": 27
        }
      ]
    },
    {
      "cell_type": "code",
      "source": [
        "# Function to get sentiment category\n",
        "def get_sentiment_category(score):\n",
        "    if score > 0:\n",
        "        return 'positive'\n",
        "    elif score < 0:\n",
        "        return 'negative'\n",
        "    else:\n",
        "        return 'neutral'"
      ],
      "metadata": {
        "id": "fL7BcNrZBFwh"
      },
      "execution_count": 28,
      "outputs": []
    },
    {
      "cell_type": "code",
      "source": [
        "sid = SentimentIntensityAnalyzer()\n",
        "sentiments = []\n",
        "score=[]\n",
        "for text in blog['Cleaned_Text']:\n",
        "    sentiment_score = sid.polarity_scores(text)['compound']\n",
        "    sentiment_category = get_sentiment_category(sentiment_score)\n",
        "    sentiments.append(sentiment_category)\n",
        "    score.append(sentiment_score)\n",
        "\n",
        "\n",
        "blog['Sentiment'] = sentiments\n",
        "blog['score'] = score"
      ],
      "metadata": {
        "id": "THUQurWMBWF-"
      },
      "execution_count": 29,
      "outputs": []
    },
    {
      "cell_type": "code",
      "source": [
        "blog"
      ],
      "metadata": {
        "colab": {
          "base_uri": "https://localhost:8080/",
          "height": 614
        },
        "id": "Bvwn4f2ABhmQ",
        "outputId": "2e0187cb-25e3-483c-e817-b22c05621daa"
      },
      "execution_count": 30,
      "outputs": [
        {
          "output_type": "execute_result",
          "data": {
            "text/plain": [
              "       Unnamed: 0                                               Data  \\\n",
              "0               0  Xref: cantaloupe.srv.cs.cmu.edu alt.atheism:49...   \n",
              "1               1  Xref: cantaloupe.srv.cs.cmu.edu alt.atheism:51...   \n",
              "2               2  Newsgroups: alt.atheism\\nPath: cantaloupe.srv....   \n",
              "3               3  Xref: cantaloupe.srv.cs.cmu.edu alt.atheism:51...   \n",
              "4               4  Xref: cantaloupe.srv.cs.cmu.edu alt.atheism:51...   \n",
              "...           ...                                                ...   \n",
              "19992       19992  Xref: cantaloupe.srv.cs.cmu.edu alt.atheism:54...   \n",
              "19993       19993  Xref: cantaloupe.srv.cs.cmu.edu alt.atheism:54...   \n",
              "19994       19994  Xref: cantaloupe.srv.cs.cmu.edu talk.religion....   \n",
              "19995       19995  Xref: cantaloupe.srv.cs.cmu.edu talk.religion....   \n",
              "19996       19996  Xref: cantaloupe.srv.cs.cmu.edu talk.abortion:...   \n",
              "\n",
              "                   Labels                                       Cleaned_Text  \\\n",
              "0             alt.atheism  xref cantaloupesrvcscmuedu altatheism49960 alt...   \n",
              "1             alt.atheism  xref cantaloupesrvcscmuedu altatheism51060 alt...   \n",
              "2             alt.atheism  newsgroups altatheism path cantaloupesrvcscmue...   \n",
              "3             alt.atheism  xref cantaloupesrvcscmuedu altatheism51120 alt...   \n",
              "4             alt.atheism  xref cantaloupesrvcscmuedu altatheism51121 soc...   \n",
              "...                   ...                                                ...   \n",
              "19992  talk.religion.misc  xref cantaloupesrvcscmuedu altatheism54482 tal...   \n",
              "19993  talk.religion.misc  xref cantaloupesrvcscmuedu altatheism54485 tal...   \n",
              "19994  talk.religion.misc  xref cantaloupesrvcscmuedu talkreligionmisc845...   \n",
              "19995  talk.religion.misc  xref cantaloupesrvcscmuedu talkreligionmisc845...   \n",
              "19996  talk.religion.misc  xref cantaloupesrvcscmuedu talkabortion121820 ...   \n",
              "\n",
              "      Sentiment   score  \n",
              "0      positive  0.9776  \n",
              "1      positive  0.9999  \n",
              "2      negative -0.4482  \n",
              "3      positive  0.6497  \n",
              "4      negative -0.9790  \n",
              "...         ...     ...  \n",
              "19992  negative -0.6124  \n",
              "19993  positive  0.9419  \n",
              "19994  positive  0.7579  \n",
              "19995  positive  0.4588  \n",
              "19996  negative -0.4456  \n",
              "\n",
              "[19997 rows x 6 columns]"
            ],
            "text/html": [
              "\n",
              "  <div id=\"df-fd8a6daf-bbd5-4ee0-81be-d605ec92da3d\" class=\"colab-df-container\">\n",
              "    <div>\n",
              "<style scoped>\n",
              "    .dataframe tbody tr th:only-of-type {\n",
              "        vertical-align: middle;\n",
              "    }\n",
              "\n",
              "    .dataframe tbody tr th {\n",
              "        vertical-align: top;\n",
              "    }\n",
              "\n",
              "    .dataframe thead th {\n",
              "        text-align: right;\n",
              "    }\n",
              "</style>\n",
              "<table border=\"1\" class=\"dataframe\">\n",
              "  <thead>\n",
              "    <tr style=\"text-align: right;\">\n",
              "      <th></th>\n",
              "      <th>Unnamed: 0</th>\n",
              "      <th>Data</th>\n",
              "      <th>Labels</th>\n",
              "      <th>Cleaned_Text</th>\n",
              "      <th>Sentiment</th>\n",
              "      <th>score</th>\n",
              "    </tr>\n",
              "  </thead>\n",
              "  <tbody>\n",
              "    <tr>\n",
              "      <th>0</th>\n",
              "      <td>0</td>\n",
              "      <td>Xref: cantaloupe.srv.cs.cmu.edu alt.atheism:49...</td>\n",
              "      <td>alt.atheism</td>\n",
              "      <td>xref cantaloupesrvcscmuedu altatheism49960 alt...</td>\n",
              "      <td>positive</td>\n",
              "      <td>0.9776</td>\n",
              "    </tr>\n",
              "    <tr>\n",
              "      <th>1</th>\n",
              "      <td>1</td>\n",
              "      <td>Xref: cantaloupe.srv.cs.cmu.edu alt.atheism:51...</td>\n",
              "      <td>alt.atheism</td>\n",
              "      <td>xref cantaloupesrvcscmuedu altatheism51060 alt...</td>\n",
              "      <td>positive</td>\n",
              "      <td>0.9999</td>\n",
              "    </tr>\n",
              "    <tr>\n",
              "      <th>2</th>\n",
              "      <td>2</td>\n",
              "      <td>Newsgroups: alt.atheism\\nPath: cantaloupe.srv....</td>\n",
              "      <td>alt.atheism</td>\n",
              "      <td>newsgroups altatheism path cantaloupesrvcscmue...</td>\n",
              "      <td>negative</td>\n",
              "      <td>-0.4482</td>\n",
              "    </tr>\n",
              "    <tr>\n",
              "      <th>3</th>\n",
              "      <td>3</td>\n",
              "      <td>Xref: cantaloupe.srv.cs.cmu.edu alt.atheism:51...</td>\n",
              "      <td>alt.atheism</td>\n",
              "      <td>xref cantaloupesrvcscmuedu altatheism51120 alt...</td>\n",
              "      <td>positive</td>\n",
              "      <td>0.6497</td>\n",
              "    </tr>\n",
              "    <tr>\n",
              "      <th>4</th>\n",
              "      <td>4</td>\n",
              "      <td>Xref: cantaloupe.srv.cs.cmu.edu alt.atheism:51...</td>\n",
              "      <td>alt.atheism</td>\n",
              "      <td>xref cantaloupesrvcscmuedu altatheism51121 soc...</td>\n",
              "      <td>negative</td>\n",
              "      <td>-0.9790</td>\n",
              "    </tr>\n",
              "    <tr>\n",
              "      <th>...</th>\n",
              "      <td>...</td>\n",
              "      <td>...</td>\n",
              "      <td>...</td>\n",
              "      <td>...</td>\n",
              "      <td>...</td>\n",
              "      <td>...</td>\n",
              "    </tr>\n",
              "    <tr>\n",
              "      <th>19992</th>\n",
              "      <td>19992</td>\n",
              "      <td>Xref: cantaloupe.srv.cs.cmu.edu alt.atheism:54...</td>\n",
              "      <td>talk.religion.misc</td>\n",
              "      <td>xref cantaloupesrvcscmuedu altatheism54482 tal...</td>\n",
              "      <td>negative</td>\n",
              "      <td>-0.6124</td>\n",
              "    </tr>\n",
              "    <tr>\n",
              "      <th>19993</th>\n",
              "      <td>19993</td>\n",
              "      <td>Xref: cantaloupe.srv.cs.cmu.edu alt.atheism:54...</td>\n",
              "      <td>talk.religion.misc</td>\n",
              "      <td>xref cantaloupesrvcscmuedu altatheism54485 tal...</td>\n",
              "      <td>positive</td>\n",
              "      <td>0.9419</td>\n",
              "    </tr>\n",
              "    <tr>\n",
              "      <th>19994</th>\n",
              "      <td>19994</td>\n",
              "      <td>Xref: cantaloupe.srv.cs.cmu.edu talk.religion....</td>\n",
              "      <td>talk.religion.misc</td>\n",
              "      <td>xref cantaloupesrvcscmuedu talkreligionmisc845...</td>\n",
              "      <td>positive</td>\n",
              "      <td>0.7579</td>\n",
              "    </tr>\n",
              "    <tr>\n",
              "      <th>19995</th>\n",
              "      <td>19995</td>\n",
              "      <td>Xref: cantaloupe.srv.cs.cmu.edu talk.religion....</td>\n",
              "      <td>talk.religion.misc</td>\n",
              "      <td>xref cantaloupesrvcscmuedu talkreligionmisc845...</td>\n",
              "      <td>positive</td>\n",
              "      <td>0.4588</td>\n",
              "    </tr>\n",
              "    <tr>\n",
              "      <th>19996</th>\n",
              "      <td>19996</td>\n",
              "      <td>Xref: cantaloupe.srv.cs.cmu.edu talk.abortion:...</td>\n",
              "      <td>talk.religion.misc</td>\n",
              "      <td>xref cantaloupesrvcscmuedu talkabortion121820 ...</td>\n",
              "      <td>negative</td>\n",
              "      <td>-0.4456</td>\n",
              "    </tr>\n",
              "  </tbody>\n",
              "</table>\n",
              "<p>19997 rows × 6 columns</p>\n",
              "</div>\n",
              "    <div class=\"colab-df-buttons\">\n",
              "\n",
              "  <div class=\"colab-df-container\">\n",
              "    <button class=\"colab-df-convert\" onclick=\"convertToInteractive('df-fd8a6daf-bbd5-4ee0-81be-d605ec92da3d')\"\n",
              "            title=\"Convert this dataframe to an interactive table.\"\n",
              "            style=\"display:none;\">\n",
              "\n",
              "  <svg xmlns=\"http://www.w3.org/2000/svg\" height=\"24px\" viewBox=\"0 -960 960 960\">\n",
              "    <path d=\"M120-120v-720h720v720H120Zm60-500h600v-160H180v160Zm220 220h160v-160H400v160Zm0 220h160v-160H400v160ZM180-400h160v-160H180v160Zm440 0h160v-160H620v160ZM180-180h160v-160H180v160Zm440 0h160v-160H620v160Z\"/>\n",
              "  </svg>\n",
              "    </button>\n",
              "\n",
              "  <style>\n",
              "    .colab-df-container {\n",
              "      display:flex;\n",
              "      gap: 12px;\n",
              "    }\n",
              "\n",
              "    .colab-df-convert {\n",
              "      background-color: #E8F0FE;\n",
              "      border: none;\n",
              "      border-radius: 50%;\n",
              "      cursor: pointer;\n",
              "      display: none;\n",
              "      fill: #1967D2;\n",
              "      height: 32px;\n",
              "      padding: 0 0 0 0;\n",
              "      width: 32px;\n",
              "    }\n",
              "\n",
              "    .colab-df-convert:hover {\n",
              "      background-color: #E2EBFA;\n",
              "      box-shadow: 0px 1px 2px rgba(60, 64, 67, 0.3), 0px 1px 3px 1px rgba(60, 64, 67, 0.15);\n",
              "      fill: #174EA6;\n",
              "    }\n",
              "\n",
              "    .colab-df-buttons div {\n",
              "      margin-bottom: 4px;\n",
              "    }\n",
              "\n",
              "    [theme=dark] .colab-df-convert {\n",
              "      background-color: #3B4455;\n",
              "      fill: #D2E3FC;\n",
              "    }\n",
              "\n",
              "    [theme=dark] .colab-df-convert:hover {\n",
              "      background-color: #434B5C;\n",
              "      box-shadow: 0px 1px 3px 1px rgba(0, 0, 0, 0.15);\n",
              "      filter: drop-shadow(0px 1px 2px rgba(0, 0, 0, 0.3));\n",
              "      fill: #FFFFFF;\n",
              "    }\n",
              "  </style>\n",
              "\n",
              "    <script>\n",
              "      const buttonEl =\n",
              "        document.querySelector('#df-fd8a6daf-bbd5-4ee0-81be-d605ec92da3d button.colab-df-convert');\n",
              "      buttonEl.style.display =\n",
              "        google.colab.kernel.accessAllowed ? 'block' : 'none';\n",
              "\n",
              "      async function convertToInteractive(key) {\n",
              "        const element = document.querySelector('#df-fd8a6daf-bbd5-4ee0-81be-d605ec92da3d');\n",
              "        const dataTable =\n",
              "          await google.colab.kernel.invokeFunction('convertToInteractive',\n",
              "                                                    [key], {});\n",
              "        if (!dataTable) return;\n",
              "\n",
              "        const docLinkHtml = 'Like what you see? Visit the ' +\n",
              "          '<a target=\"_blank\" href=https://colab.research.google.com/notebooks/data_table.ipynb>data table notebook</a>'\n",
              "          + ' to learn more about interactive tables.';\n",
              "        element.innerHTML = '';\n",
              "        dataTable['output_type'] = 'display_data';\n",
              "        await google.colab.output.renderOutput(dataTable, element);\n",
              "        const docLink = document.createElement('div');\n",
              "        docLink.innerHTML = docLinkHtml;\n",
              "        element.appendChild(docLink);\n",
              "      }\n",
              "    </script>\n",
              "  </div>\n",
              "\n",
              "\n",
              "<div id=\"df-b6329cde-68a7-445d-adc3-686030efbb01\">\n",
              "  <button class=\"colab-df-quickchart\" onclick=\"quickchart('df-b6329cde-68a7-445d-adc3-686030efbb01')\"\n",
              "            title=\"Suggest charts\"\n",
              "            style=\"display:none;\">\n",
              "\n",
              "<svg xmlns=\"http://www.w3.org/2000/svg\" height=\"24px\"viewBox=\"0 0 24 24\"\n",
              "     width=\"24px\">\n",
              "    <g>\n",
              "        <path d=\"M19 3H5c-1.1 0-2 .9-2 2v14c0 1.1.9 2 2 2h14c1.1 0 2-.9 2-2V5c0-1.1-.9-2-2-2zM9 17H7v-7h2v7zm4 0h-2V7h2v10zm4 0h-2v-4h2v4z\"/>\n",
              "    </g>\n",
              "</svg>\n",
              "  </button>\n",
              "\n",
              "<style>\n",
              "  .colab-df-quickchart {\n",
              "      --bg-color: #E8F0FE;\n",
              "      --fill-color: #1967D2;\n",
              "      --hover-bg-color: #E2EBFA;\n",
              "      --hover-fill-color: #174EA6;\n",
              "      --disabled-fill-color: #AAA;\n",
              "      --disabled-bg-color: #DDD;\n",
              "  }\n",
              "\n",
              "  [theme=dark] .colab-df-quickchart {\n",
              "      --bg-color: #3B4455;\n",
              "      --fill-color: #D2E3FC;\n",
              "      --hover-bg-color: #434B5C;\n",
              "      --hover-fill-color: #FFFFFF;\n",
              "      --disabled-bg-color: #3B4455;\n",
              "      --disabled-fill-color: #666;\n",
              "  }\n",
              "\n",
              "  .colab-df-quickchart {\n",
              "    background-color: var(--bg-color);\n",
              "    border: none;\n",
              "    border-radius: 50%;\n",
              "    cursor: pointer;\n",
              "    display: none;\n",
              "    fill: var(--fill-color);\n",
              "    height: 32px;\n",
              "    padding: 0;\n",
              "    width: 32px;\n",
              "  }\n",
              "\n",
              "  .colab-df-quickchart:hover {\n",
              "    background-color: var(--hover-bg-color);\n",
              "    box-shadow: 0 1px 2px rgba(60, 64, 67, 0.3), 0 1px 3px 1px rgba(60, 64, 67, 0.15);\n",
              "    fill: var(--button-hover-fill-color);\n",
              "  }\n",
              "\n",
              "  .colab-df-quickchart-complete:disabled,\n",
              "  .colab-df-quickchart-complete:disabled:hover {\n",
              "    background-color: var(--disabled-bg-color);\n",
              "    fill: var(--disabled-fill-color);\n",
              "    box-shadow: none;\n",
              "  }\n",
              "\n",
              "  .colab-df-spinner {\n",
              "    border: 2px solid var(--fill-color);\n",
              "    border-color: transparent;\n",
              "    border-bottom-color: var(--fill-color);\n",
              "    animation:\n",
              "      spin 1s steps(1) infinite;\n",
              "  }\n",
              "\n",
              "  @keyframes spin {\n",
              "    0% {\n",
              "      border-color: transparent;\n",
              "      border-bottom-color: var(--fill-color);\n",
              "      border-left-color: var(--fill-color);\n",
              "    }\n",
              "    20% {\n",
              "      border-color: transparent;\n",
              "      border-left-color: var(--fill-color);\n",
              "      border-top-color: var(--fill-color);\n",
              "    }\n",
              "    30% {\n",
              "      border-color: transparent;\n",
              "      border-left-color: var(--fill-color);\n",
              "      border-top-color: var(--fill-color);\n",
              "      border-right-color: var(--fill-color);\n",
              "    }\n",
              "    40% {\n",
              "      border-color: transparent;\n",
              "      border-right-color: var(--fill-color);\n",
              "      border-top-color: var(--fill-color);\n",
              "    }\n",
              "    60% {\n",
              "      border-color: transparent;\n",
              "      border-right-color: var(--fill-color);\n",
              "    }\n",
              "    80% {\n",
              "      border-color: transparent;\n",
              "      border-right-color: var(--fill-color);\n",
              "      border-bottom-color: var(--fill-color);\n",
              "    }\n",
              "    90% {\n",
              "      border-color: transparent;\n",
              "      border-bottom-color: var(--fill-color);\n",
              "    }\n",
              "  }\n",
              "</style>\n",
              "\n",
              "  <script>\n",
              "    async function quickchart(key) {\n",
              "      const quickchartButtonEl =\n",
              "        document.querySelector('#' + key + ' button');\n",
              "      quickchartButtonEl.disabled = true;  // To prevent multiple clicks.\n",
              "      quickchartButtonEl.classList.add('colab-df-spinner');\n",
              "      try {\n",
              "        const charts = await google.colab.kernel.invokeFunction(\n",
              "            'suggestCharts', [key], {});\n",
              "      } catch (error) {\n",
              "        console.error('Error during call to suggestCharts:', error);\n",
              "      }\n",
              "      quickchartButtonEl.classList.remove('colab-df-spinner');\n",
              "      quickchartButtonEl.classList.add('colab-df-quickchart-complete');\n",
              "    }\n",
              "    (() => {\n",
              "      let quickchartButtonEl =\n",
              "        document.querySelector('#df-b6329cde-68a7-445d-adc3-686030efbb01 button');\n",
              "      quickchartButtonEl.style.display =\n",
              "        google.colab.kernel.accessAllowed ? 'block' : 'none';\n",
              "    })();\n",
              "  </script>\n",
              "</div>\n",
              "\n",
              "  <div id=\"id_3d1092bf-a993-4948-b51d-11a9ecdec374\">\n",
              "    <style>\n",
              "      .colab-df-generate {\n",
              "        background-color: #E8F0FE;\n",
              "        border: none;\n",
              "        border-radius: 50%;\n",
              "        cursor: pointer;\n",
              "        display: none;\n",
              "        fill: #1967D2;\n",
              "        height: 32px;\n",
              "        padding: 0 0 0 0;\n",
              "        width: 32px;\n",
              "      }\n",
              "\n",
              "      .colab-df-generate:hover {\n",
              "        background-color: #E2EBFA;\n",
              "        box-shadow: 0px 1px 2px rgba(60, 64, 67, 0.3), 0px 1px 3px 1px rgba(60, 64, 67, 0.15);\n",
              "        fill: #174EA6;\n",
              "      }\n",
              "\n",
              "      [theme=dark] .colab-df-generate {\n",
              "        background-color: #3B4455;\n",
              "        fill: #D2E3FC;\n",
              "      }\n",
              "\n",
              "      [theme=dark] .colab-df-generate:hover {\n",
              "        background-color: #434B5C;\n",
              "        box-shadow: 0px 1px 3px 1px rgba(0, 0, 0, 0.15);\n",
              "        filter: drop-shadow(0px 1px 2px rgba(0, 0, 0, 0.3));\n",
              "        fill: #FFFFFF;\n",
              "      }\n",
              "    </style>\n",
              "    <button class=\"colab-df-generate\" onclick=\"generateWithVariable('blog')\"\n",
              "            title=\"Generate code using this dataframe.\"\n",
              "            style=\"display:none;\">\n",
              "\n",
              "  <svg xmlns=\"http://www.w3.org/2000/svg\" height=\"24px\"viewBox=\"0 0 24 24\"\n",
              "       width=\"24px\">\n",
              "    <path d=\"M7,19H8.4L18.45,9,17,7.55,7,17.6ZM5,21V16.75L18.45,3.32a2,2,0,0,1,2.83,0l1.4,1.43a1.91,1.91,0,0,1,.58,1.4,1.91,1.91,0,0,1-.58,1.4L9.25,21ZM18.45,9,17,7.55Zm-12,3A5.31,5.31,0,0,0,4.9,8.1,5.31,5.31,0,0,0,1,6.5,5.31,5.31,0,0,0,4.9,4.9,5.31,5.31,0,0,0,6.5,1,5.31,5.31,0,0,0,8.1,4.9,5.31,5.31,0,0,0,12,6.5,5.46,5.46,0,0,0,6.5,12Z\"/>\n",
              "  </svg>\n",
              "    </button>\n",
              "    <script>\n",
              "      (() => {\n",
              "      const buttonEl =\n",
              "        document.querySelector('#id_3d1092bf-a993-4948-b51d-11a9ecdec374 button.colab-df-generate');\n",
              "      buttonEl.style.display =\n",
              "        google.colab.kernel.accessAllowed ? 'block' : 'none';\n",
              "\n",
              "      buttonEl.onclick = () => {\n",
              "        google.colab.notebook.generateWithVariable('blog');\n",
              "      }\n",
              "      })();\n",
              "    </script>\n",
              "  </div>\n",
              "\n",
              "    </div>\n",
              "  </div>\n"
            ],
            "application/vnd.google.colaboratory.intrinsic+json": {
              "type": "dataframe",
              "variable_name": "blog",
              "summary": "{\n  \"name\": \"blog\",\n  \"rows\": 19997,\n  \"fields\": [\n    {\n      \"column\": \"Unnamed: 0\",\n      \"properties\": {\n        \"dtype\": \"number\",\n        \"std\": 5772,\n        \"min\": 0,\n        \"max\": 19996,\n        \"num_unique_values\": 19997,\n        \"samples\": [\n          10747,\n          4949,\n          3352\n        ],\n        \"semantic_type\": \"\",\n        \"description\": \"\"\n      }\n    },\n    {\n      \"column\": \"Data\",\n      \"properties\": {\n        \"dtype\": \"string\",\n        \"num_unique_values\": 19466,\n        \"samples\": [\n          \"Xref: cantaloupe.srv.cs.cmu.edu soc.religion.christian:21662\\nPath: cantaloupe.srv.cs.cmu.edu!das-news.harvard.edu!noc.near.net!howland.reston.ans.net!agate!ames!pacbell.com!att-out!rutgers!igor.rutgers.edu!geneva.rutgers.edu!christian\\nFrom: af664@yfn.ysu.edu (Frank DeCenso, Jr.)\\nNewsgroups: soc.religion.christian\\nSubject: Re: _Christianity In Crisis_\\nMessage-ID: <May.18.00.54.53.1993.9551@geneva.rutgers.edu>\\nDate: 18 May 93 04:54:54 GMT\\nSender: hedrick@geneva.rutgers.edu\\nOrganization: Youngstown State/Youngstown Free-Net\\nLines: 371\\nApproved: christian@aramis.rutgers.edu\\n\\nFrom Bit.listserv.christia\\n\\nZane writes...\\n \\nFrom: FACN34B@SAUPM00.BITNET (zane of dhahan)\\n>Newsgroups: bit.listserv.christia\\nSubject: Christianity in Crisis\\nDate: Wed May 12 14:43:19 1993\\n \\n\\\"Frank, first of all, thanks for all of the great Scripture verses.  It\\nwas a pleasure to read them.\\\"\\n \\nMY REPLY...\\nYou are welcome, Zane.\\n \\nZane...\\n\\\"I am sure nothing that I will say will change your mind about it... but I\\nwould like to ask you if the book in question really does anything for you.\\nI mean, were you all caught up in the word/faith thing, but now that you\\nhave read the book you've been rescued from all of the error and pain that\\nwill result in your Christian life?\\\"\\n \\nMY REPLY...\\n(1) When I first became a Christian, I entered into the Word/Faith\\n    movement.  It was easy.  I wasn't grounded in the Word of God and sound\\n    doctrine.  When I visited Christian book stores, the cheapest books I\\n    could find to buy were the .50 and $1.00 books by Hagin and others.\\n    Consequently, I began receiving Hagin's monthly magazine (and they\\n    still send it to me), and also Copeland's (also, still sent to me).\\n    It wasn't until I read a booklet by Jimmy Swaggart called _Hyper Faith:\\n    The New Gnosticism_ that I began to realize the teachings I were\\n    partaking of were error.  I started reading the Bible more and studying\\n    more.  Sure enough, Jimmy was right in many points.  As part of my\\n    experience, I am alerting Christians, particularly new Christians, that\\n    these teachings are heretical and they need to do as the Bereans did in\\n    Acts 17:11 - check these teachings out with Scripture!\\n \\n(2) My brother in law was involved in a Word/Faith \\\"cult\\\" in my area - it's\\n    leader is real good friends with Benny Hinn.  Rather then going into\\n    much detail about this, suffice it to say he was deceived, mistreated, and\\n    has now fallen into atheism.  I'm still praying for him (Phil. 1:6).\\n \\n(3) The assistant pastor at the church I teach adult Sunday School in has been\\n    a `follower' of Copeland for 15 years.  He has thousands of tapes by the\\n    Faith teachers.  In the class recently, I quoted several of the teachers'\\n    heretical statements to his surprise.  Since then, I've been able to talk\\n    to him at length about these issues.\\n \\n(4) The leader of the Women's Group at my church is a Benny Hinn `fan'.\\n    Recently, I found that she has been lending _Good Morning, Holy Spirit_ to\\n    women in the church.  That prompted my quotes in Sunday School, as well as\\n    my lending CIC to people in the church.\\n \\nI'm well aware of the abuses and heresies perpetrated in this movement and\\nhave an urgency in my heart and life to warn people about the heresies.\\nWhat heresies?\\n    A. Jesus became sin - took on the very nature of the devil, and became\\n        one with him.\\n    B. Jesus' death on the cross wasn't enough to atone.\\n    C. Jesus was dragged to hell after His death, was beat and abused by\\n        Satan and demons, thus finishing our atonement.  Satan was ruling\\n        over Him there.\\n    D. Jesus was `born-again' in hell.\\n    E. Jesus died spiritually, lost His divinity, and reassumed it after\\n        the resurrection.\\n    F. We are gods.\\n \\nThese are heresies.  Documentation will be provided re: these teachings\\nupon request.\\n \\nZane...\\n\\\"Or what does it do for you?  Is it preventing you from going out and\\njoining up with the word/faith movement which you'd been contemplating\\njoining for so long, but now that you've read the book, you've been saved\\nfrom all of that?\\\"\\n \\nMY REPLY...\\nIt wasn't _Christianity In Crisis_ that helped me; it was a booklet by\\nSwaggart that I mentioned above.  But CIC is MUCH, MUCH better - tremendous\\ndocumentation and insights.\\n \\nZane...\\n\\\"I don't have a nice Scriptural answer for why I believe it is at best un-\\nprofitable for Christians to engage in this type of activity - heresy hunting.\\\"\\n \\nMY REPLY...\\nWhy do you call it \\\"heresy hunting\\\"?  \\\"Hunting\\\" implies it isn't readily\\naccessible or available.  This movement is the fastest growing movement in\\nChristendom.  Hagin has sold over 40 million books and booklets.  Hinn has sold\\nmore books in the last couple of years than Swindoll and Dobson combined.  Fred\\nPrice has the largest church in terms of seating capacity in the USA.  Doesn't\\nsound like much \\\"hunting\\\" is needed.\\n \\nIt is Scriptural to expose doctrinal error.  I gave some verses to you before.\\nMore can be given.  Most of the epistles were written due to error (doctrinal,\\npractical) in the churches.  The early church had numerous councils to expose\\nerror and heresy.  It's not a new thing.  Remember Luther?\\n \\nZane...\\n\\\"I would like to point out though, that historically those who hunt heretics\\noften end up causing a bigger mess than the heretics... but this is my un-\\ndocumented opinion.\\\"\\n \\nMY REPLY...\\n(1) If you can provide documentation, it would be appreciated.\\n(2) Read Ephesians 4:11-16, esp. vss. 13 and 14 and tell me what causes\\n    disunity and immaturity in the body.\\n \\nEPH 4:13-14 till we all come to the unity of the faith and of the knowledge of\\nthe Son of God, to a perfect man, to the measure of the stature of the fullness\\nof Christ; that we should no longer be children, tossed to and fro and carried\\nabout with every wind of doctrine, by the trickery of men, in the cunning\\ncraftiness of deceitful plotting....\\n \\nDisunity, contrary to popular opinion, isn't caused by exposing error; it's\\ncaused by error.\\n \\nZane...\\n\\\"There are many who probably give no place for seeing the Scriptures as\\ndocumenting a Spiritual development or growth in its writers - but I would\\nsuggest that the fiery Paul of the letter to the Galatians mellows and\\nmatures into the one who loses all for the sake of Love in the End.\\\"\\n \\nMY REPLY...\\nMost scholars believe Paul wrote 2 Timothy last.  Let's examine his admonitions\\nto Tim to ascertain how mellow he had become...\\n \\n2TI 1:13-15 Hold fast the pattern of sound words which you have heard from me,\\nin faith and love which are in Christ Jesus. That good thing which was\\ncommitted to you, keep by the Holy Spirit who dwells in us. This you know, that\\nall those in Asia have turned away from me, among whom are Phygellus and\\nHermogenes.\\n \\n2TI 2:15-18 Be diligent to present yourself approved to God, a worker who does\\nnot need to be ashamed, rightly dividing the word of truth. But shun profane\\nand idle babblings, for they will increase to more ungodliness. And their\\nmessage will spread like cancer. Hymenaeus and Philetus are of this sort, who\\nhave strayed concerning the truth, saying that the resurrection is already\\npast; and they overthrow the faith of some.\\n \\n2TI 2:24-26 And a servant of the Lord must not quarrel but be gentle to all,\\nable to teach, patient, in humility correcting those who are in opposition, if\\nGod perhaps will grant them repentance, so that they may know the truth, and\\nthat they may come to their senses and escape the snare of the devil, having\\nbeen taken captive by him to do his will.\\n \\n2TI 3:6-9 For of this sort are those who creep into households and make\\ncaptives of gullible women loaded down with sins, led away by various lusts,\\nalways learning and never able to come to the knowledge of the truth. Now as\\nJannes and Jambres resisted Moses, so do these also resist the truth: men of\\ncorrupt minds, disapproved concerning the faith; but they will progress no\\nfurther, for their folly will be manifest to all, as theirs also was.\\n \\n2TI 3:12-17 Yes, and all who desire to live godly in Christ Jesus will suffer\\npersecution. But evil men and impostors will grow worse and worse, deceiving\\nand being deceived. But you must continue in the things which you have learned\\nand been assured of, knowing from whom you have learned them, and that from\\nchildhood you have known the Holy Scriptures, which are able to make you wise\\nfor salvation through faith which is in Christ Jesus. All Scripture is given by\\ninspiration of God, and is profitable for doctrine, for reproof, for\\ncorrection, for instruction in righteousness, that the man of God may be\\ncomplete, thoroughly equipped for every good work.\\n \\n2TI 4:2-5 Preach the word! Be ready in season and out of season. Convince,\\nrebuke, exhort, with all longsuffering and teaching. For the time will come\\nwhen they will not endure sound doctrine, but according to their own desires,\\nbecause they have itching ears, they will heap up for themselves teachers; and\\nthey will turn their ears away from the truth, and be turned aside to fables.\\nBut you be watchful in all things, endure afflictions, do the work of an\\nevangelist, fulfill your ministry.\\n \\n2TI 4:14-15 Alexander the coppersmith did me much harm. May the Lord repay him\\naccording to his works. You also must beware of him, for he has greatly\\nresisted our words.\\n \\nZane...\\n\\\"The picture I have of Paul is not of one who goes out of his way to destroy\\nthe ministry of wolves... but of one who teaches the sheep, with many tears,\\nthe necessity of absolutely not allowing themselves to be transformed into\\nwolves to protect themselves.\\\"\\n \\nMY REPLY...\\nACT 20:26-31 \\\"Therefore I testify to you this day that I am innocent of the\\nblood of all men. \\\"For I have not shunned to declare to you the whole counsel\\nof God. \\\"Therefore take heed to yourselves and to all the flock, among which\\nthe Holy Spirit has made you overseers, to shepherd the church of God which He\\npurchased with His own blood. \\\"For I know this, that after my departure savage\\nwolves will come in among you, not sparing the flock. \\\"Also from among\\nyourselves men will rise up, speaking perverse things, to draw away the\\ndisciples after themselves. \\\"Therefore watch, and remember that for three years\\nI did not cease to warn everyone night and day with tears.\\n \\nZane...\\n\\\"For all the warning Paul does, it is of note that he never once drops a name\\nof a wolf....  - but I will admit he cries in his beard at the end over those\\nwho have abandoned him - everyone in Asia wasn't it ?\\\"\\n \\nMY REPLY...\\nPaul mentioned names...\\n \\n1TI 1:18-20 This charge I commit to you, son Timothy, according to the\\nprophecies previously made concerning you, that by them you may wage the good\\nwarfare, having faith and a good conscience, which some having rejected,\\nconcerning the faith have suffered shipwreck, of whom are Hymenaeus and\\nAlexander, whom I delivered to Satan that they may learn not to blaspheme.\\n \\n2TI 1:15 This you know, that all those in Asia have turned away from me, among\\nwhom are Phygellus and Hermogenes.\\n \\n2TI 2:16-18 But shun profane and idle babblings, for they will increase to more\\nungodliness. And their message will spread like cancer. Hymenaeus and Philetus\\nare of this sort, who have strayed concerning the truth, saying that the\\nresurrection is already past; and they overthrow the faith of some.\\n \\n2TI 4:10 for Demas has forsaken me, having loved this present world, and has\\ndeparted for Thessalonica--Crescens for Galatia, Titus for Dalmatia.\\n \\n2TI 4:14-15 Alexander the coppersmith did me much harm. May the Lord repay him\\naccording to his works. You also must beware of him, for he has greatly\\nresisted our words.\\n \\nSo did John...\\n \\n3JO 1:9-10 I wrote to the church, but Diotrephes, who loves to have the\\npreeminence among them, does not receive us. Therefore, if I come, I will call\\nto mind his deeds which he does, prating against us with malicious words. And\\nnot content with that, he himself does not receive the brethren, and forbids\\nthose who wish to, putting them out of the church.\\n \\nJesus also singled out teachings and doctrines...\\n \\nREV 2:14-16 \\\"But I have a few things against you, because you have there those\\nwho hold the doctrine of Balaam, who taught Balak to put a stumbling block\\nbefore the children of Israel, to eat things sacrificed to idols, and to commit\\nsexual immorality. \\\"Thus you also have those who hold the doctrine of the\\nNicolaitans, which thing I hate. 'Repent, or else I will come to you quickly\\nand will fight against them with the sword of My mouth.\\n \\nREV 2:20-23 \\\"Nevertheless I have a few things against you, because you allow\\nthat woman Jezebel, who calls herself a prophetess, to teach and seduce My\\nservants to commit sexual immorality and eat things sacrificed to idols. \\\"And I\\ngave her time to repent of her sexual immorality, and she did not repent.\\n\\\"Indeed I will cast her into a sickbed, and those who commit adultery with her\\ninto great tribulation, unless they repent of their deeds. \\\"I will kill her\\nchildren with death, and all the churches shall know that I am He who searches\\nthe minds and hearts. And I will give to each one of you according to your\\nworks.\\n \\nZane...\\n\\\"I question too, the purposes of those who write books and build ministries\\non the faults - deliberate or otherwise - of others.  Maybe if they would\\nwander around in the desert eating locust and honey, or barely cakes...with\\nno worldly goods at stake, money to be made, or no reputations to maintain...\\nI would question their motives - conscious or otherwise - less.\\\"\\n \\nMY REPLY...\\nI won't comment on this because it deals with the intangible motives of others.\\nBut even if they had bad motives, remember what Paul said...\\n \\nPHI 1:15-18 Some indeed preach Christ even from envy and strife, and some also\\nfrom good will: The former preach Christ from selfish ambition, not sincerely,\\nsupposing to add affliction to my chains; but the latter out of love, knowing\\nthat I am appointed for the defense of the gospel. What then? Only that in\\nevery way, whether in pretense or in truth, Christ is preached; and in this I\\nrejoice, yes, and will rejoice.\\n \\nZane...\\n\\\"If we want to be true to the admonitions of Scripture - many of which you\\nlist - about protecting ourselves and the flock from wolves and winds of\\ndoctrines, I suggest we start by allowing the wolf-program in our own noetic\\npasture to be nailed to the Cross.\\\"\\n \\nMY REPLY...\\nPlease explain.\\n \\nZane...\\n\\\"Secondly, I suggest any heresy hunting be restricted to our own fellowships -\\nwhich in the strict Scriptural sense is the local city-church.\\\"\\n \\nMY REPLY...\\nIf heresy was not being propagated over the mass media, then it may not be\\nneeded to go mass media with the exposure.  Unfortunately, heresy is being\\ntaught not just in Copeland's church or Hagin's or Hinn's or Price's, but all\\nover the radio, in print, etc.  No pastor or church leader knows what materials\\nthe sheep are feeding on outside the church.  It's imperative that leadership\\nbe made aware of this, and CIC does just that.\\n \\nAlso, let's examine a passage of Scripture...\\n* EPH 4:11 And He Himself gave some to be apostles, some prophets, some\\nevangelists, and some pastors and teachers,\\n* EPH 4:12 for the equipping of the saints for the work of ministry, for the\\nedifying of the body of Christ,\\n \\nThese ministry gifts that the Lord installs in the church are not just for one\\nindividual church, but for \\\"the body of Christ\\\".\\nPaul was an apostle - he traveled all over distilling his message.  He was also\\na teacher -\\n1CO 4:17 For this reason I have sent Timothy to you, who is my beloved and\\nfaithful son in the Lord, who will remind you of my ways in Christ, as I teach\\neverywhere in every church.\\n1CO 7:17 But as God has distributed to each one, as the Lord has called each\\none, so let him walk. And so I ordain in all the churches.\\n \\nAlso -\\n1CO 12:28 And God has appointed these in the church: first apostles, second\\nprophets, third teachers, after that miracles, then gifts of healings, helps,\\nadministrations, varieties of tongues.\\n \\n* EPH 4:13 till we all come to the unity of the faith and of the knowledge of\\nthe Son of God, to a perfect man, to the measure of the stature of the fullness\\nof Christ;\\n \\nNotice that the \\\"Five-Fold\\\" ministries are going to be around \\\"till\\\" the church\\nis in \\\"unity of the faith and of the knowledge of the Son of God to a perfect\\nman\\\".  This, I believe will not occur fully until the Lord Jesus returns (see\\n1Cor. 13:9-12).  But God wants the body to continue on maturing.  What hinders\\nmaturity and unity of the body?\\n \\n* EPH 4:14 that we should no longer be children, tossed to and fro and carried\\nabout with every wind of doctrine, by the trickery of men, in the cunning\\ncraftiness of deceitful plotting,\\n \\nIt's clear that false doctrine, integrated into the church \\\"by the trickery of\\nmen\\\" causes (1) disunity [the thing we are striving for] and (2) spiritual\\nimmaturity - the church continues in spiritual childhood when Christians are\\n\\\"tossed to and fro and carried about with every wind of doctrine\\\".\\n \\nThe \\\"Five -Fold\\\" ministry, of which there does not appear to be clear\\nScriptural denominational boundaries (\\\"pastors\\\" appear responsible for their\\nindividual flock), is to deal with these doctrines (when necessary) in their\\nstruggle to equip the body.\\n \\nAll believers are called to do this to a degree...\\nJUD 1:3-4 Beloved, while I was very diligent to write to you concerning our\\ncommon salvation, I found it necessary to write to you exhorting you to contend\\nearnestly for the faith which was once for all delivered to the saints. For\\ncertain men have crept in unnoticed, who long ago were marked out for this\\ncondemnation, ungodly men, who turn the grace of our God into lewdness and deny\\nthe only Lord God and our Lord Jesus Christ.\\n \\nZane...\\n\\\"If you'll notice, in Scripture the heresy hunters that went from Church to\\nChurch and area to area, were the \\\"bad guys\\\" and they went after the \\\"good guy\\\"\\nnamely Paul - who they considered to be the arch heretic.\\\"\\n \\nMY REPLY...\\nThey were themselves heretics trying to discredit Paul who was preaching\\ncontrary to what they taught!\\n \\nZane...\\n\\\"Let's face it, the wolves are here for a reason.  And we are here for the\\nReason.  And let's hope the wolves become sheep, and the sheep, lambs.\\\"\\n \\nMY REPLY...\\nYes!\\n2TI 2:24-26 And a servant of the Lord must not quarrel but be gentle to all,\\n                                                           ~~~~~~~~~~~~~~~~\\nable to teach, patient, in humility correcting those who are in opposition, if\\n~~~~~~~~~~~~~~~~~~~~~~~~~~~~~~~~~~~~~~~~~~~~~~~~~~~~~~~~~~~~~~~~~~~~~~~~~~  ~~\\nGod perhaps will grant them repentance, so that they may know the truth, and\\n~~~~~~~~~~~~~~~~~~~~~~~~~~~~~~~~~~~~~~\\nthat they may come to their senses and escape the snare of the devil, having\\nbeen taken captive by him to do his will.\\n \\nAMEN!\\n\\n\\nFrank\\n-- \\n\\\"If one wished to contend with Him, he could not answer Him one time out\\n of a thousand.\\\"  JOB 9:3\\n\",\n          \"Path: cantaloupe.srv.cs.cmu.edu!crabapple.srv.cs.cmu.edu!bb3.andrew.cmu.edu!news.sei.cmu.edu!cis.ohio-state.edu!zaphod.mps.ohio-state.edu!howland.reston.ans.net!agate!dog.ee.lbl.gov!network.ucsd.edu!munnari.oz.au!goanna!escargot!minyos.xx.rmit.OZ.AU!s872505\\nFrom: s872505@minyos.xx.rmit.OZ.AU (Stephen Bokor)\\nNewsgroups: comp.sys.ibm.pc.hardware\\nSubject: Re: A: DRIVE WON'T BOOT\\nMessage-ID: <1r2h10INNh3l@escargot.xx.rmit.OZ.AU>\\nDate: 21 Apr 93 04:02:40 GMT\\nReferences: <120922@netnews.upenn.edu>\\nOrganization: Royal Melbourne Institute of Technology\\nLines: 36\\nNNTP-Posting-Host: minyos.xx.rmit.oz.au\\n\\nbalog@eniac.seas.upenn.edu (Eric J Balog) writes:\\n\\n>Hi!\\n\\n>I recently switched my 3.5\\\" drive to A:. The problem is, while I can read and\\n>write to both the new A: and B: correctly, I can't boot from a floppy in A:.\\n>I've checked the CMOS settings; it is set for Floppy Seek at Boot and Boot \\n>Order A:,C:. \\n\\n>Once, I had a floppy that did not have the systems files on it in A:. I got a\\n>message telling me to put a disk systems disk in the drive. It didn't work.\\n>When I do have a systems disk in the A: drive, this is what happens:\\n>1) Power-on and Memory Test;\\n>2) A: light comes on\\n>3) B: light comes on, followed by a short beep;\\n>4) HD light comes on for an instant;\\n>5) B: light comes on again, then nothing happens\\n\\n>The light goes off, there is no disk activity of any kind, and the screen \\n>blanks. I can't even use ctrl-alt-del.\\n\\n>Any suggestions.\\n\\nHave you checked: 1/ The setting of drive A: to 1.44 M floppy.\\n\\t\\t\\t\\t\\t\\t2/ The setting of drive B: to 1.2 M foppy.\\n\\t\\t\\t\\t\\t\\t3/ The cable connecting the two drives to\\n\\t\\t\\t\\t\\t\\tthe controller card (I can't remember which\\n\\t\\t\\t\\t\\t\\ttwo wires are swapped, but they determine\\n\\t\\t\\t\\t\\t\\twhich is drive A: & b:).\\n\\nI hope this is of some help :-)\\n\\n\\nSteve\\n\\ns872505@minyos.xx.oz.au\\n\",\n          \"Path: cantaloupe.srv.cs.cmu.edu!das-news.harvard.edu!noc.near.net!howland.reston.ans.net!ira.uka.de!news.dfn.de!mailgzrz.TU-Berlin.DE!news.netmbx.de!Germany.EU.net!rz.uni-hildesheim.de!agsc!erni.escape.de!s-link.escape.de!kwgeitz\\nFrom: kwgeitz@s-link.escape.de (Karl-W. Geitz)\\nNewsgroups: comp.os.ms-windows.misc\\nSubject: Re: Data segments and memory model usage\\nMessage-ID: <50phS3ykPo@s-link.escape.de>\\nOrganization: -S-LINK-> Public Mailbox, Braunschweig, Germany\\nDate: Fri, 14 May 1993 19:24:00 +0200\\nLines: 36\\n\\nHello phjm, you wrote:\\n\\n> Firstly, does Windows 3.1 in 386 enhanced mode do anything special\\n> with DLLs that have been compiled using the large memory model?\\n\\nNo.\\n\\n> We are being told that even in 386 enhanced mode Windows\\n> will load DLLs into *real memory below 640K* and page-lock it.\\n\\nNo.\\n\\n> My second question relates to static data inside DLLs. Is there\\n> any way at all to get multiple instances of the static data\\n> segment (DGROUP?)?\\n\\nNo, but...\\n\\nYou can allocate real static data within code segments!\\nWhen you need more dynamic memory you can allocate data on the global heap.\\n\\nYou can forget most of what was written about memory management. Under 3.1\\nyou have paged virtual memory. You can lock every block without hampering\\nthe memory manager. You can use far pointer everytime without always Lock/\\nUnlocking the memory block.\\n\\nAn besides: DLL's are mostly just disguised EXE's, that happen to be called\\nby another task.\\n\\n\\nKarl.\\n\\n------------------------------------------------------------------------\\nKarl-W.Geitz, Hauptstr.50, W-3320 Salzgitter 1, kwgeitz@s-link.escape.de\\nTEL: +49-5300-6701 FAX: +49-5300-6499 CIS: 100010,204 BIX: geitzkwg\\n## CrossPoint v2.1 ##\\n\"\n        ],\n        \"semantic_type\": \"\",\n        \"description\": \"\"\n      }\n    },\n    {\n      \"column\": \"Labels\",\n      \"properties\": {\n        \"dtype\": \"category\",\n        \"num_unique_values\": 20,\n        \"samples\": [\n          \"alt.atheism\",\n          \"talk.politics.mideast\",\n          \"soc.religion.christian\"\n        ],\n        \"semantic_type\": \"\",\n        \"description\": \"\"\n      }\n    },\n    {\n      \"column\": \"Cleaned_Text\",\n      \"properties\": {\n        \"dtype\": \"string\",\n        \"num_unique_values\": 19466,\n        \"samples\": [\n          \"xref cantaloupesrvcscmuedu socreligionchristian21662 path cantaloupesrvcscmuedudasnewsharvardedunocnearnethowlandrestonansnetagateamespacbellcomattoutrutgersigorrutgersedugenevarutgerseduchristian af664yfnysuedu frank decenso jr newsgroups socreligionchristian subject _christianity crisis_ messageid may1800545319939551genevarutgersedu date 18 may 93 045454 gmt sender hedrickgenevarutgersedu organization youngstown stateyoungstown freenet line 371 approved christianaramisrutgersedu bitlistservchristia zane writes facn34bsaupm00bitnet zane dhahan newsgroups bitlistservchristia subject christianity crisis date wed may 12 144319 1993 frank first thanks great scripture verse pleasure read reply welcome zane zane sure nothing say change mind would like ask book question really anything mean caught wordfaith thing read book youve rescued error pain result christian life reply 1 first became christian entered wordfaith movement easy wasnt grounded word god sound doctrine visited christian book store cheapest book could find buy 50 100 book hagin others consequently began receiving hagins monthly magazine still send also copelands also still sent wasnt read booklet jimmy swaggart called _hyper faith new gnosticism_ began realize teaching partaking error started reading bible studying sure enough jimmy right many point part experience alerting christian particularly new christian teaching heretical need bereans act 1711 check teaching scripture 2 brother law involved wordfaith cult area leader real good friend benny hinn rather going much detail suffice say deceived mistreated fallen atheism im still praying phil 16 3 assistant pastor church teach adult sunday school follower copeland 15 year thousand tape faith teacher class recently quoted several teacher heretical statement surprise since ive able talk length issue 4 leader woman group church benny hinn fan recently found lending _good morning holy spirit_ woman church prompted quote sunday school well lending cic people church im well aware abuse heresy perpetrated movement urgency heart life warn people heresy heresy jesus became sin took nature devil became one b jesus death cross wasnt enough atone c jesus dragged hell death beat abused satan demon thus finishing atonement satan ruling jesus bornagain hell e jesus died spiritually lost divinity reassumed resurrection f god heresy documentation provided teaching upon request zane preventing going joining wordfaith movement youd contemplating joining long youve read book youve saved reply wasnt _christianity crisis_ helped booklet swaggart mentioned cic much much better tremendous documentation insight zane dont nice scriptural answer believe best un profitable christian engage type activity heresy hunting reply call heresy hunting hunting implies isnt readily accessible available movement fastest growing movement christendom hagin sold 40 million book booklet hinn sold book last couple year swindoll dobson combined fred price largest church term seating capacity usa doesnt sound like much hunting needed scriptural expose doctrinal error gave verse given epistle written due error doctrinal practical church early church numerous council expose error heresy new thing remember luther zane would like point though historically hunt heretic often end causing bigger mess heretic un documented opinion reply 1 provide documentation would appreciated 2 read ephesian 41116 esp v 13 14 tell cause disunity immaturity body eph 41314 till come unity faith knowledge son god perfect man measure stature fullness christ longer child tossed fro carried every wind doctrine trickery men cunning craftiness deceitful plotting disunity contrary popular opinion isnt caused exposing error caused error zane many probably give place seeing scripture documenting spiritual development growth writer would suggest fiery paul letter galatian mellows matures one loses sake love end reply scholar believe paul wrote 2 timothy last let examine admonition tim ascertain mellow become 2ti 11315 hold fast pattern sound word heard faith love christ jesus good thing committed keep holy spirit dwells u know asia turned away among phygellus hermogenes 2ti 21518 diligent present approved god worker need ashamed rightly dividing word truth shun profane idle babbling increase ungodliness message spread like cancer hymenaeus philetus sort strayed concerning truth saying resurrection already past overthrow faith 2ti 22426 servant lord must quarrel gentle able teach patient humility correcting opposition god perhaps grant repentance may know truth may come sens escape snare devil taken captive 2ti 369 sort creep household make captive gullible woman loaded sin led away various lust always learning never able come knowledge truth jannes jambres resisted moses also resist truth men corrupt mind disapproved concerning faith progress folly manifest also 2ti 31217 yes desire live godly christ jesus suffer persecution evil men impostor grow worse worse deceiving deceived must continue thing learned assured knowing learned childhood known holy scripture able make wise salvation faith christ jesus scripture given inspiration god profitable doctrine reproof correction instruction righteousness man god may complete thoroughly equipped every good work 2ti 425 preach word ready season season convince rebuke exhort longsuffering teaching time come endure sound doctrine according desire itching ear heap teacher turn ear away truth turned aside fable watchful thing endure affliction work evangelist fulfill ministry 2ti 41415 alexander coppersmith much harm may lord repay according work also must beware greatly resisted word zane picture paul one go way destroy ministry wolf one teach sheep many tear necessity absolutely allowing transformed wolf protect reply act 202631 therefore testify day innocent blood men shunned declare whole counsel god therefore take heed flock among holy spirit made overseer shepherd church god purchased blood know departure savage wolf come among sparing flock also among men rise speaking perverse thing draw away disciple therefore watch remember three year cease warn everyone night day tear zane warning paul note never drop name wolf admit cry beard end abandoned everyone asia wasnt reply paul mentioned name 1ti 11820 charge commit son timothy according prophecy previously made concerning may wage good warfare faith good conscience rejected concerning faith suffered shipwreck hymenaeus alexander delivered satan may learn blaspheme 2ti 115 know asia turned away among phygellus hermogenes 2ti 21618 shun profane idle babbling increase ungodliness message spread like cancer hymenaeus philetus sort strayed concerning truth saying resurrection already past overthrow faith 2ti 410 demas forsaken loved present world departed thessalonicacrescens galatia titus dalmatia 2ti 41415 alexander coppersmith much harm may lord repay according work also must beware greatly resisted word john 3jo 1910 wrote church diotrephes love preeminence among receive u therefore come call mind deed prating u malicious word content receive brother forbids wish putting church jesus also singled teaching doctrine rev 21416 thing hold doctrine balaam taught balak put stumbling block child israel eat thing sacrificed idol commit sexual immorality thus also hold doctrine nicolaitans thing hate repent else come quickly fight sword mouth rev 22023 nevertheless thing allow woman jezebel call prophetess teach seduce servant commit sexual immorality eat thing sacrificed idol gave time repent sexual immorality repent indeed cast sickbed commit adultery great tribulation unless repent deed kill child death church shall know search mind heart give one according work zane question purpose write book build ministry fault deliberate otherwise others maybe would wander around desert eating locust honey barely cakeswith worldly good stake money made reputation maintain would question motif conscious otherwise le reply wont comment deal intangible motif others even bad motif remember paul said phi 11518 indeed preach christ even envy strife also good former preach christ selfish ambition sincerely supposing add affliction chain latter love knowing appointed defense gospel every way whether pretense truth christ preached rejoice yes rejoice zane want true admonition scripture many list protecting flock wolf wind doctrine suggest start allowing wolfprogram noetic pasture nailed cross reply please explain zane secondly suggest heresy hunting restricted fellowship strict scriptural sense local citychurch reply heresy propagated mass medium may needed go mass medium exposure unfortunately heresy taught copelands church hagins hinns price radio print etc pastor church leader know material sheep feeding outside church imperative leadership made aware cic also let examine passage scripture eph 411 gave apostle prophet evangelist pastor teacher eph 412 equipping saint work ministry edifying body christ ministry gift lord installs church one individual church body christ paul apostle traveled distilling message also teacher 1co 417 reason sent timothy beloved faithful son lord remind way christ teach everywhere every church 1co 717 god distributed one lord called one let walk ordain church also 1co 1228 god appointed church first apostle second prophet third teacher miracle gift healing help administration variety tongue eph 413 till come unity faith knowledge son god perfect man measure stature fullness christ notice fivefold ministry going around till church unity faith knowledge son god perfect man believe occur fully lord jesus return see 1cor 13912 god want body continue maturing hinders maturity unity body eph 414 longer child tossed fro carried every wind doctrine trickery men cunning craftiness deceitful plotting clear false doctrine integrated church trickery men cause 1 disunity thing striving 2 spiritual immaturity church continues spiritual childhood christian tossed fro carried every wind doctrine five fold ministry appear clear scriptural denominational boundary pastor appear responsible individual flock deal doctrine necessary struggle equip body believer called degree jud 134 beloved diligent write concerning common salvation found necessary write exhorting contend earnestly faith delivered saint certain men crept unnoticed long ago marked condemnation ungodly men turn grace god lewdness deny lord god lord jesus christ zane youll notice scripture heresy hunter went church church area area bad guy went good guy namely paul considered arch heretic reply heretic trying discredit paul preaching contrary taught zane let face wolf reason reason let hope wolf become sheep sheep lamb reply yes 2ti 22426 servant lord must quarrel gentle able teach patient humility correcting opposition god perhaps grant repentance may know truth may come sens escape snare devil taken captive amen frank one wished contend could answer one time thousand job 93\",\n          \"path cantaloupesrvcscmueducrabapplesrvcscmuedubb3andrewcmuedunewsseicmueducisohiostateeduzaphodmpsohiostateeduhowlandrestonansnetagatedogeelblgovnetworkucsdedumunnariozaugoannaescargotminyosxxrmitozaus872505 s872505minyosxxrmitozau stephen bokor newsgroups compsysibmpchardware subject drive wont boot messageid 1r2h10innh3lescargotxxrmitozau date 21 apr 93 040240 gmt reference 120922netnewsupennedu organization royal melbourne institute technology line 36 nntppostinghost minyosxxrmitozau balogeniacseasupennedu eric j balog writes hi recently switched 35 drive problem read write new b correctly cant boot floppy ive checked cmos setting set floppy seek boot boot order ac floppy system file got message telling put disk system disk drive didnt work system disk drive happens 1 poweron memory test 2 light come 3 b light come followed short beep 4 hd light come instant 5 b light come nothing happens light go disk activity kind screen blank cant even use ctrlaltdel suggestion checked 1 setting drive 144 floppy 2 setting drive b 12 foppy 3 cable connecting two drive controller card cant remember two wire swapped determine drive b hope help steve s872505minyosxxozau\",\n          \"path cantaloupesrvcscmuedudasnewsharvardedunocnearnethowlandrestonansnetiraukadenewsdfndemailgzrztuberlindenewsnetmbxdegermanyeunetrzunihildesheimdeagscerniescapedeslinkescapedekwgeitz kwgeitzslinkescapede karlw geitz newsgroups composmswindowsmisc subject data segment memory model usage messageid 50phs3ykposlinkescapede organization slink public mailbox braunschweig germany date fri 14 may 1993 192400 0200 line 36 hello phjm wrote firstly window 31 386 enhanced mode anything special dlls compiled using large memory model told even 386 enhanced mode window load dlls real memory 640k pagelock second question relates static data inside dlls way get multiple instance static data segment dgroup allocate real static data within code segment need dynamic memory allocate data global heap forget written memory management 31 paged virtual memory lock every block without hampering memory manager use far pointer everytime without always lock unlocking memory block besides dlls mostly disguised ex happen called another task karl karlwgeitz hauptstr50 w3320 salzgitter 1 kwgeitzslinkescapede tel 4953006701 fax 4953006499 ci 100010204 bix geitzkwg crosspoint v21\"\n        ],\n        \"semantic_type\": \"\",\n        \"description\": \"\"\n      }\n    },\n    {\n      \"column\": \"Sentiment\",\n      \"properties\": {\n        \"dtype\": \"category\",\n        \"num_unique_values\": 3,\n        \"samples\": [\n          \"positive\",\n          \"negative\",\n          \"neutral\"\n        ],\n        \"semantic_type\": \"\",\n        \"description\": \"\"\n      }\n    },\n    {\n      \"column\": \"score\",\n      \"properties\": {\n        \"dtype\": \"number\",\n        \"std\": 0.686791311383029,\n        \"min\": -0.9999,\n        \"max\": 1.0,\n        \"num_unique_values\": 4814,\n        \"samples\": [\n          0.5676,\n          0.5986,\n          -0.9301\n        ],\n        \"semantic_type\": \"\",\n        \"description\": \"\"\n      }\n    }\n  ]\n}"
            }
          },
          "metadata": {},
          "execution_count": 30
        }
      ]
    },
    {
      "cell_type": "code",
      "source": [
        "blog.groupby(['Labels', 'Sentiment']).size().unstack(fill_value=0)"
      ],
      "metadata": {
        "colab": {
          "base_uri": "https://localhost:8080/",
          "height": 707
        },
        "id": "1QW9d5ihCuiS",
        "outputId": "b2671966-e054-4294-c04f-936f08c7fd94"
      },
      "execution_count": 31,
      "outputs": [
        {
          "output_type": "execute_result",
          "data": {
            "text/plain": [
              "Sentiment                 negative  neutral  positive\n",
              "Labels                                               \n",
              "alt.atheism                    341        9       650\n",
              "comp.graphics                   93       47       860\n",
              "comp.os.ms-windows.misc        157       43       800\n",
              "comp.sys.ibm.pc.hardware       178       24       798\n",
              "comp.sys.mac.hardware          203       49       748\n",
              "comp.windows.x                 209       41       750\n",
              "misc.forsale                   123       69       808\n",
              "rec.autos                      288       25       687\n",
              "rec.motorcycles                288       20       692\n",
              "rec.sport.baseball             187       36       777\n",
              "rec.sport.hockey               236       14       750\n",
              "sci.crypt                      268        9       723\n",
              "sci.electronics                142       33       825\n",
              "sci.med                        313       20       667\n",
              "sci.space                      244       19       737\n",
              "soc.religion.christian         222        1       774\n",
              "talk.politics.guns             645       14       341\n",
              "talk.politics.mideast          617        7       376\n",
              "talk.politics.misc             512        5       483\n",
              "talk.religion.misc             371        8       621"
            ],
            "text/html": [
              "\n",
              "  <div id=\"df-ee0c2dce-ce18-4f3c-ac10-a80353f9c94a\" class=\"colab-df-container\">\n",
              "    <div>\n",
              "<style scoped>\n",
              "    .dataframe tbody tr th:only-of-type {\n",
              "        vertical-align: middle;\n",
              "    }\n",
              "\n",
              "    .dataframe tbody tr th {\n",
              "        vertical-align: top;\n",
              "    }\n",
              "\n",
              "    .dataframe thead th {\n",
              "        text-align: right;\n",
              "    }\n",
              "</style>\n",
              "<table border=\"1\" class=\"dataframe\">\n",
              "  <thead>\n",
              "    <tr style=\"text-align: right;\">\n",
              "      <th>Sentiment</th>\n",
              "      <th>negative</th>\n",
              "      <th>neutral</th>\n",
              "      <th>positive</th>\n",
              "    </tr>\n",
              "    <tr>\n",
              "      <th>Labels</th>\n",
              "      <th></th>\n",
              "      <th></th>\n",
              "      <th></th>\n",
              "    </tr>\n",
              "  </thead>\n",
              "  <tbody>\n",
              "    <tr>\n",
              "      <th>alt.atheism</th>\n",
              "      <td>341</td>\n",
              "      <td>9</td>\n",
              "      <td>650</td>\n",
              "    </tr>\n",
              "    <tr>\n",
              "      <th>comp.graphics</th>\n",
              "      <td>93</td>\n",
              "      <td>47</td>\n",
              "      <td>860</td>\n",
              "    </tr>\n",
              "    <tr>\n",
              "      <th>comp.os.ms-windows.misc</th>\n",
              "      <td>157</td>\n",
              "      <td>43</td>\n",
              "      <td>800</td>\n",
              "    </tr>\n",
              "    <tr>\n",
              "      <th>comp.sys.ibm.pc.hardware</th>\n",
              "      <td>178</td>\n",
              "      <td>24</td>\n",
              "      <td>798</td>\n",
              "    </tr>\n",
              "    <tr>\n",
              "      <th>comp.sys.mac.hardware</th>\n",
              "      <td>203</td>\n",
              "      <td>49</td>\n",
              "      <td>748</td>\n",
              "    </tr>\n",
              "    <tr>\n",
              "      <th>comp.windows.x</th>\n",
              "      <td>209</td>\n",
              "      <td>41</td>\n",
              "      <td>750</td>\n",
              "    </tr>\n",
              "    <tr>\n",
              "      <th>misc.forsale</th>\n",
              "      <td>123</td>\n",
              "      <td>69</td>\n",
              "      <td>808</td>\n",
              "    </tr>\n",
              "    <tr>\n",
              "      <th>rec.autos</th>\n",
              "      <td>288</td>\n",
              "      <td>25</td>\n",
              "      <td>687</td>\n",
              "    </tr>\n",
              "    <tr>\n",
              "      <th>rec.motorcycles</th>\n",
              "      <td>288</td>\n",
              "      <td>20</td>\n",
              "      <td>692</td>\n",
              "    </tr>\n",
              "    <tr>\n",
              "      <th>rec.sport.baseball</th>\n",
              "      <td>187</td>\n",
              "      <td>36</td>\n",
              "      <td>777</td>\n",
              "    </tr>\n",
              "    <tr>\n",
              "      <th>rec.sport.hockey</th>\n",
              "      <td>236</td>\n",
              "      <td>14</td>\n",
              "      <td>750</td>\n",
              "    </tr>\n",
              "    <tr>\n",
              "      <th>sci.crypt</th>\n",
              "      <td>268</td>\n",
              "      <td>9</td>\n",
              "      <td>723</td>\n",
              "    </tr>\n",
              "    <tr>\n",
              "      <th>sci.electronics</th>\n",
              "      <td>142</td>\n",
              "      <td>33</td>\n",
              "      <td>825</td>\n",
              "    </tr>\n",
              "    <tr>\n",
              "      <th>sci.med</th>\n",
              "      <td>313</td>\n",
              "      <td>20</td>\n",
              "      <td>667</td>\n",
              "    </tr>\n",
              "    <tr>\n",
              "      <th>sci.space</th>\n",
              "      <td>244</td>\n",
              "      <td>19</td>\n",
              "      <td>737</td>\n",
              "    </tr>\n",
              "    <tr>\n",
              "      <th>soc.religion.christian</th>\n",
              "      <td>222</td>\n",
              "      <td>1</td>\n",
              "      <td>774</td>\n",
              "    </tr>\n",
              "    <tr>\n",
              "      <th>talk.politics.guns</th>\n",
              "      <td>645</td>\n",
              "      <td>14</td>\n",
              "      <td>341</td>\n",
              "    </tr>\n",
              "    <tr>\n",
              "      <th>talk.politics.mideast</th>\n",
              "      <td>617</td>\n",
              "      <td>7</td>\n",
              "      <td>376</td>\n",
              "    </tr>\n",
              "    <tr>\n",
              "      <th>talk.politics.misc</th>\n",
              "      <td>512</td>\n",
              "      <td>5</td>\n",
              "      <td>483</td>\n",
              "    </tr>\n",
              "    <tr>\n",
              "      <th>talk.religion.misc</th>\n",
              "      <td>371</td>\n",
              "      <td>8</td>\n",
              "      <td>621</td>\n",
              "    </tr>\n",
              "  </tbody>\n",
              "</table>\n",
              "</div>\n",
              "    <div class=\"colab-df-buttons\">\n",
              "\n",
              "  <div class=\"colab-df-container\">\n",
              "    <button class=\"colab-df-convert\" onclick=\"convertToInteractive('df-ee0c2dce-ce18-4f3c-ac10-a80353f9c94a')\"\n",
              "            title=\"Convert this dataframe to an interactive table.\"\n",
              "            style=\"display:none;\">\n",
              "\n",
              "  <svg xmlns=\"http://www.w3.org/2000/svg\" height=\"24px\" viewBox=\"0 -960 960 960\">\n",
              "    <path d=\"M120-120v-720h720v720H120Zm60-500h600v-160H180v160Zm220 220h160v-160H400v160Zm0 220h160v-160H400v160ZM180-400h160v-160H180v160Zm440 0h160v-160H620v160ZM180-180h160v-160H180v160Zm440 0h160v-160H620v160Z\"/>\n",
              "  </svg>\n",
              "    </button>\n",
              "\n",
              "  <style>\n",
              "    .colab-df-container {\n",
              "      display:flex;\n",
              "      gap: 12px;\n",
              "    }\n",
              "\n",
              "    .colab-df-convert {\n",
              "      background-color: #E8F0FE;\n",
              "      border: none;\n",
              "      border-radius: 50%;\n",
              "      cursor: pointer;\n",
              "      display: none;\n",
              "      fill: #1967D2;\n",
              "      height: 32px;\n",
              "      padding: 0 0 0 0;\n",
              "      width: 32px;\n",
              "    }\n",
              "\n",
              "    .colab-df-convert:hover {\n",
              "      background-color: #E2EBFA;\n",
              "      box-shadow: 0px 1px 2px rgba(60, 64, 67, 0.3), 0px 1px 3px 1px rgba(60, 64, 67, 0.15);\n",
              "      fill: #174EA6;\n",
              "    }\n",
              "\n",
              "    .colab-df-buttons div {\n",
              "      margin-bottom: 4px;\n",
              "    }\n",
              "\n",
              "    [theme=dark] .colab-df-convert {\n",
              "      background-color: #3B4455;\n",
              "      fill: #D2E3FC;\n",
              "    }\n",
              "\n",
              "    [theme=dark] .colab-df-convert:hover {\n",
              "      background-color: #434B5C;\n",
              "      box-shadow: 0px 1px 3px 1px rgba(0, 0, 0, 0.15);\n",
              "      filter: drop-shadow(0px 1px 2px rgba(0, 0, 0, 0.3));\n",
              "      fill: #FFFFFF;\n",
              "    }\n",
              "  </style>\n",
              "\n",
              "    <script>\n",
              "      const buttonEl =\n",
              "        document.querySelector('#df-ee0c2dce-ce18-4f3c-ac10-a80353f9c94a button.colab-df-convert');\n",
              "      buttonEl.style.display =\n",
              "        google.colab.kernel.accessAllowed ? 'block' : 'none';\n",
              "\n",
              "      async function convertToInteractive(key) {\n",
              "        const element = document.querySelector('#df-ee0c2dce-ce18-4f3c-ac10-a80353f9c94a');\n",
              "        const dataTable =\n",
              "          await google.colab.kernel.invokeFunction('convertToInteractive',\n",
              "                                                    [key], {});\n",
              "        if (!dataTable) return;\n",
              "\n",
              "        const docLinkHtml = 'Like what you see? Visit the ' +\n",
              "          '<a target=\"_blank\" href=https://colab.research.google.com/notebooks/data_table.ipynb>data table notebook</a>'\n",
              "          + ' to learn more about interactive tables.';\n",
              "        element.innerHTML = '';\n",
              "        dataTable['output_type'] = 'display_data';\n",
              "        await google.colab.output.renderOutput(dataTable, element);\n",
              "        const docLink = document.createElement('div');\n",
              "        docLink.innerHTML = docLinkHtml;\n",
              "        element.appendChild(docLink);\n",
              "      }\n",
              "    </script>\n",
              "  </div>\n",
              "\n",
              "\n",
              "<div id=\"df-dba50cd1-abc8-4dd7-a6d8-31fc92d7d18a\">\n",
              "  <button class=\"colab-df-quickchart\" onclick=\"quickchart('df-dba50cd1-abc8-4dd7-a6d8-31fc92d7d18a')\"\n",
              "            title=\"Suggest charts\"\n",
              "            style=\"display:none;\">\n",
              "\n",
              "<svg xmlns=\"http://www.w3.org/2000/svg\" height=\"24px\"viewBox=\"0 0 24 24\"\n",
              "     width=\"24px\">\n",
              "    <g>\n",
              "        <path d=\"M19 3H5c-1.1 0-2 .9-2 2v14c0 1.1.9 2 2 2h14c1.1 0 2-.9 2-2V5c0-1.1-.9-2-2-2zM9 17H7v-7h2v7zm4 0h-2V7h2v10zm4 0h-2v-4h2v4z\"/>\n",
              "    </g>\n",
              "</svg>\n",
              "  </button>\n",
              "\n",
              "<style>\n",
              "  .colab-df-quickchart {\n",
              "      --bg-color: #E8F0FE;\n",
              "      --fill-color: #1967D2;\n",
              "      --hover-bg-color: #E2EBFA;\n",
              "      --hover-fill-color: #174EA6;\n",
              "      --disabled-fill-color: #AAA;\n",
              "      --disabled-bg-color: #DDD;\n",
              "  }\n",
              "\n",
              "  [theme=dark] .colab-df-quickchart {\n",
              "      --bg-color: #3B4455;\n",
              "      --fill-color: #D2E3FC;\n",
              "      --hover-bg-color: #434B5C;\n",
              "      --hover-fill-color: #FFFFFF;\n",
              "      --disabled-bg-color: #3B4455;\n",
              "      --disabled-fill-color: #666;\n",
              "  }\n",
              "\n",
              "  .colab-df-quickchart {\n",
              "    background-color: var(--bg-color);\n",
              "    border: none;\n",
              "    border-radius: 50%;\n",
              "    cursor: pointer;\n",
              "    display: none;\n",
              "    fill: var(--fill-color);\n",
              "    height: 32px;\n",
              "    padding: 0;\n",
              "    width: 32px;\n",
              "  }\n",
              "\n",
              "  .colab-df-quickchart:hover {\n",
              "    background-color: var(--hover-bg-color);\n",
              "    box-shadow: 0 1px 2px rgba(60, 64, 67, 0.3), 0 1px 3px 1px rgba(60, 64, 67, 0.15);\n",
              "    fill: var(--button-hover-fill-color);\n",
              "  }\n",
              "\n",
              "  .colab-df-quickchart-complete:disabled,\n",
              "  .colab-df-quickchart-complete:disabled:hover {\n",
              "    background-color: var(--disabled-bg-color);\n",
              "    fill: var(--disabled-fill-color);\n",
              "    box-shadow: none;\n",
              "  }\n",
              "\n",
              "  .colab-df-spinner {\n",
              "    border: 2px solid var(--fill-color);\n",
              "    border-color: transparent;\n",
              "    border-bottom-color: var(--fill-color);\n",
              "    animation:\n",
              "      spin 1s steps(1) infinite;\n",
              "  }\n",
              "\n",
              "  @keyframes spin {\n",
              "    0% {\n",
              "      border-color: transparent;\n",
              "      border-bottom-color: var(--fill-color);\n",
              "      border-left-color: var(--fill-color);\n",
              "    }\n",
              "    20% {\n",
              "      border-color: transparent;\n",
              "      border-left-color: var(--fill-color);\n",
              "      border-top-color: var(--fill-color);\n",
              "    }\n",
              "    30% {\n",
              "      border-color: transparent;\n",
              "      border-left-color: var(--fill-color);\n",
              "      border-top-color: var(--fill-color);\n",
              "      border-right-color: var(--fill-color);\n",
              "    }\n",
              "    40% {\n",
              "      border-color: transparent;\n",
              "      border-right-color: var(--fill-color);\n",
              "      border-top-color: var(--fill-color);\n",
              "    }\n",
              "    60% {\n",
              "      border-color: transparent;\n",
              "      border-right-color: var(--fill-color);\n",
              "    }\n",
              "    80% {\n",
              "      border-color: transparent;\n",
              "      border-right-color: var(--fill-color);\n",
              "      border-bottom-color: var(--fill-color);\n",
              "    }\n",
              "    90% {\n",
              "      border-color: transparent;\n",
              "      border-bottom-color: var(--fill-color);\n",
              "    }\n",
              "  }\n",
              "</style>\n",
              "\n",
              "  <script>\n",
              "    async function quickchart(key) {\n",
              "      const quickchartButtonEl =\n",
              "        document.querySelector('#' + key + ' button');\n",
              "      quickchartButtonEl.disabled = true;  // To prevent multiple clicks.\n",
              "      quickchartButtonEl.classList.add('colab-df-spinner');\n",
              "      try {\n",
              "        const charts = await google.colab.kernel.invokeFunction(\n",
              "            'suggestCharts', [key], {});\n",
              "      } catch (error) {\n",
              "        console.error('Error during call to suggestCharts:', error);\n",
              "      }\n",
              "      quickchartButtonEl.classList.remove('colab-df-spinner');\n",
              "      quickchartButtonEl.classList.add('colab-df-quickchart-complete');\n",
              "    }\n",
              "    (() => {\n",
              "      let quickchartButtonEl =\n",
              "        document.querySelector('#df-dba50cd1-abc8-4dd7-a6d8-31fc92d7d18a button');\n",
              "      quickchartButtonEl.style.display =\n",
              "        google.colab.kernel.accessAllowed ? 'block' : 'none';\n",
              "    })();\n",
              "  </script>\n",
              "</div>\n",
              "\n",
              "    </div>\n",
              "  </div>\n"
            ],
            "application/vnd.google.colaboratory.intrinsic+json": {
              "type": "dataframe",
              "summary": "{\n  \"name\": \"blog\",\n  \"rows\": 20,\n  \"fields\": [\n    {\n      \"column\": \"Labels\",\n      \"properties\": {\n        \"dtype\": \"string\",\n        \"num_unique_values\": 20,\n        \"samples\": [\n          \"alt.atheism\",\n          \"talk.politics.mideast\",\n          \"soc.religion.christian\"\n        ],\n        \"semantic_type\": \"\",\n        \"description\": \"\"\n      }\n    },\n    {\n      \"column\": \"negative\",\n      \"properties\": {\n        \"dtype\": \"number\",\n        \"std\": 152,\n        \"min\": 93,\n        \"max\": 645,\n        \"num_unique_values\": 19,\n        \"samples\": [\n          341,\n          209,\n          142\n        ],\n        \"semantic_type\": \"\",\n        \"description\": \"\"\n      }\n    },\n    {\n      \"column\": \"neutral\",\n      \"properties\": {\n        \"dtype\": \"number\",\n        \"std\": 18,\n        \"min\": 1,\n        \"max\": 69,\n        \"num_unique_values\": 17,\n        \"samples\": [\n          9,\n          47,\n          41\n        ],\n        \"semantic_type\": \"\",\n        \"description\": \"\"\n      }\n    },\n    {\n      \"column\": \"positive\",\n      \"properties\": {\n        \"dtype\": \"number\",\n        \"std\": 142,\n        \"min\": 341,\n        \"max\": 860,\n        \"num_unique_values\": 19,\n        \"samples\": [\n          650,\n          750,\n          825\n        ],\n        \"semantic_type\": \"\",\n        \"description\": \"\"\n      }\n    }\n  ]\n}"
            }
          },
          "metadata": {},
          "execution_count": 31
        }
      ]
    },
    {
      "cell_type": "code",
      "source": [
        "blog['Sentiment'].value_counts()"
      ],
      "metadata": {
        "colab": {
          "base_uri": "https://localhost:8080/"
        },
        "id": "AeKyVdy_D8IH",
        "outputId": "0d5d8304-2cb5-4c00-b0f7-6f7e1559e6f8"
      },
      "execution_count": 32,
      "outputs": [
        {
          "output_type": "execute_result",
          "data": {
            "text/plain": [
              "Sentiment\n",
              "positive    13867\n",
              "negative     5637\n",
              "neutral       493\n",
              "Name: count, dtype: int64"
            ]
          },
          "metadata": {},
          "execution_count": 32
        }
      ]
    },
    {
      "cell_type": "code",
      "source": [
        "blog.Cleaned_Text[19996][700:]     #negative"
      ],
      "metadata": {
        "colab": {
          "base_uri": "https://localhost:8080/",
          "height": 72
        },
        "id": "eMPqGUElC_bR",
        "outputId": "3a96e496-e598-4659-ca08-fe15bb510e5c"
      },
      "execution_count": 33,
      "outputs": [
        {
          "output_type": "execute_result",
          "data": {
            "text/plain": [
              "'mif go parachuting parachute doesnt open friend watching fall think funny gag would pretend swimming0m keith must know escape sequence ansi otherwise enter terminal beomes dumb there something significant village many happy return seeing way mean get reign tek'"
            ],
            "application/vnd.google.colaboratory.intrinsic+json": {
              "type": "string"
            }
          },
          "metadata": {},
          "execution_count": 33
        }
      ]
    },
    {
      "cell_type": "code",
      "source": [
        "blog.Cleaned_Text[3][1064:]  #positive"
      ],
      "metadata": {
        "colab": {
          "base_uri": "https://localhost:8080/",
          "height": 72
        },
        "id": "rVePTJqrDKeB",
        "outputId": "42555a90-870b-43a5-f894-523ccb11217f"
      },
      "execution_count": 34,
      "outputs": [
        {
          "output_type": "execute_result",
          "data": {
            "text/plain": [
              "'university strong supporter separation church state enraged sound like screaming parody give copy friendly neighbourhood subgenius preacher luck hell run mental mincer hand back outrageously offensive gutbustingly funny parody paste original see stool scroll thought religion spirituality matter colon use text wipe mathew'"
            ],
            "application/vnd.google.colaboratory.intrinsic+json": {
              "type": "string"
            }
          },
          "metadata": {},
          "execution_count": 34
        }
      ]
    },
    {
      "cell_type": "markdown",
      "source": [
        "## Evaluation"
      ],
      "metadata": {
        "id": "L6HzVAC_FYEE"
      }
    },
    {
      "cell_type": "code",
      "source": [
        "print(\"Evaluation of Naive Bayes Classifier:\")\n",
        "print(classification_report(y_test, y_pred))"
      ],
      "metadata": {
        "colab": {
          "base_uri": "https://localhost:8080/"
        },
        "id": "S1jPmaOXEyfR",
        "outputId": "a6d10a9a-ae18-4023-b0c8-ce02619d3e7e"
      },
      "execution_count": 35,
      "outputs": [
        {
          "output_type": "stream",
          "name": "stdout",
          "text": [
            "Evaluation of Naive Bayes Classifier:\n",
            "                          precision    recall  f1-score   support\n",
            "\n",
            "             alt.atheism       0.72      0.79      0.76       173\n",
            "           comp.graphics       0.87      0.91      0.89       179\n",
            " comp.os.ms-windows.misc       0.94      0.87      0.90       226\n",
            "comp.sys.ibm.pc.hardware       0.84      0.84      0.84       204\n",
            "   comp.sys.mac.hardware       0.89      0.96      0.92       205\n",
            "          comp.windows.x       0.97      0.94      0.95       186\n",
            "            misc.forsale       0.90      0.77      0.83       190\n",
            "               rec.autos       0.90      0.94      0.92       203\n",
            "         rec.motorcycles       1.00      0.96      0.98       218\n",
            "      rec.sport.baseball       0.99      0.98      0.99       192\n",
            "        rec.sport.hockey       0.98      0.99      0.98       203\n",
            "               sci.crypt       0.88      0.98      0.93       200\n",
            "         sci.electronics       0.93      0.89      0.91       227\n",
            "                 sci.med       1.00      0.94      0.97       196\n",
            "               sci.space       0.97      0.97      0.97       205\n",
            "  soc.religion.christian       0.89      1.00      0.94       215\n",
            "      talk.politics.guns       0.85      0.91      0.88       205\n",
            "   talk.politics.mideast       0.92      0.94      0.93       197\n",
            "      talk.politics.misc       0.75      0.76      0.76       200\n",
            "      talk.religion.misc       0.60      0.47      0.53       176\n",
            "\n",
            "                accuracy                           0.89      4000\n",
            "               macro avg       0.89      0.89      0.89      4000\n",
            "            weighted avg       0.89      0.89      0.89      4000\n",
            "\n"
          ]
        }
      ]
    },
    {
      "cell_type": "markdown",
      "source": [
        "**Discuss the performance of the model and any challenges encountered during the classification process**"
      ],
      "metadata": {
        "id": "EDKRcEQaOM5f"
      }
    },
    {
      "cell_type": "markdown",
      "source": [
        "The Naive Bayes classifier demonstrated decent performance on the task of categorizing blog posts into their respective categories. The accuracy, precision, recall, and F1-score metrics provided a comprehensive view of the model's performance. Generally, the model achieved satisfactory accuracy\n",
        "\n",
        "Cleaning up the text before feeding it to the model. Getting rid of unnecessary stuff like punctuation and changing all the words to lowercase helped the model understand better."
      ],
      "metadata": {
        "id": "-2gF3QmROaaq"
      }
    },
    {
      "cell_type": "markdown",
      "source": [
        "**Reflect on the sentiment analysis results and their implications regarding the content of the blog posts**"
      ],
      "metadata": {
        "id": "KsSriHCiP2Es"
      }
    },
    {
      "cell_type": "markdown",
      "source": [
        "The sentiment analysis results provided valuable insights into the emotional tone of the blog posts. By leveraging the VADER sentiment analysis tool, we were able to categorize the sentiments expressed in the blog posts as positive, negative, or neutral. These sentiments shed light on the overall sentiment distribution across different categories, offering a glimpse into the emotional engagement of the audience with various topics\n",
        "\n",
        "Sentiment analysis helps identify topics or themes that evoke strong emotional responses from readers. By understanding which topics generate positive or negative sentiments, content creators can tailor their future posts to cater to audience preferences and interests  The sentiments expressed in blog posts contribute to the overall perception of the brand or author. Positive sentiments convey satisfaction and approval, enhancing the brand's reputation and credibility  Sentiment analysis helps align content strategy with audience sentiment. By analyzing sentiment trends over time, content creators can identify patterns and adjust their content strategy accordingly"
      ],
      "metadata": {
        "id": "nLCsHv-CP7pz"
      }
    },
    {
      "cell_type": "code",
      "source": [],
      "metadata": {
        "id": "5jI_DEM6Fb1K"
      },
      "execution_count": 35,
      "outputs": []
    }
  ]
}